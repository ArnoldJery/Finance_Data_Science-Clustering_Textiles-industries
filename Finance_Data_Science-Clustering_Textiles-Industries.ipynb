{
 "cells": [
  {
   "cell_type": "code",
   "execution_count": 1,
   "id": "b99cc6bb",
   "metadata": {
    "_cell_guid": "b1076dfc-b9ad-4769-8c92-a6c4dae69d19",
    "_uuid": "8f2839f25d086af736a60e9eeb907d3b93b6e0e5",
    "execution": {
     "iopub.execute_input": "2022-04-19T12:08:42.938228Z",
     "iopub.status.busy": "2022-04-19T12:08:42.937775Z",
     "iopub.status.idle": "2022-04-19T12:08:42.960246Z",
     "shell.execute_reply": "2022-04-19T12:08:42.959333Z"
    },
    "papermill": {
     "duration": 0.07507,
     "end_time": "2022-04-19T12:08:42.963544",
     "exception": false,
     "start_time": "2022-04-19T12:08:42.888474",
     "status": "completed"
    },
    "tags": []
   },
   "outputs": [
    {
     "name": "stdout",
     "output_type": "stream",
     "text": [
      "/kaggle/input/dataset/the result12.csv\n",
      "/kaggle/input/utsemitten/The Emitten.csv\n"
     ]
    }
   ],
   "source": [
    "# This Python 3 environment comes with many helpful analytics libraries installed\n",
    "# It is defined by the kaggle/python Docker image: https://github.com/kaggle/docker-python\n",
    "# For example, here's several helpful packages to load\n",
    "\n",
    "import numpy as np # linear algebra\n",
    "import pandas as pd # data processing, CSV file I/O (e.g. pd.read_csv)\n",
    "\n",
    "# Input data files are available in the read-only \"../input/\" directory\n",
    "# For example, running this (by clicking run or pressing Shift+Enter) will list all files under the input directory\n",
    "\n",
    "import os\n",
    "for dirname, _, filenames in os.walk('/kaggle/input'):\n",
    "    for filename in filenames:\n",
    "        print(os.path.join(dirname, filename))\n",
    "\n",
    "# You can write up to 20GB to the current directory (/kaggle/working/) that gets preserved as output when you create a version using \"Save & Run All\" \n",
    "# You can also write temporary files to /kaggle/temp/, but they won't be saved outside of the current session"
   ]
  },
  {
   "cell_type": "markdown",
   "id": "4214701f",
   "metadata": {
    "papermill": {
     "duration": 0.045294,
     "end_time": "2022-04-19T12:08:43.056265",
     "exception": false,
     "start_time": "2022-04-19T12:08:43.010971",
     "status": "completed"
    },
    "tags": []
   },
   "source": [
    "# **1. Exploratory Data Analysis**"
   ]
  },
  {
   "cell_type": "markdown",
   "id": "cf61c614",
   "metadata": {
    "papermill": {
     "duration": 0.045495,
     "end_time": "2022-04-19T12:08:43.149269",
     "exception": false,
     "start_time": "2022-04-19T12:08:43.103774",
     "status": "completed"
    },
    "tags": []
   },
   "source": [
    "# **1.1 Load Data**"
   ]
  },
  {
   "cell_type": "code",
   "execution_count": 2,
   "id": "fb4f3c46",
   "metadata": {
    "execution": {
     "iopub.execute_input": "2022-04-19T12:08:43.242652Z",
     "iopub.status.busy": "2022-04-19T12:08:43.242022Z",
     "iopub.status.idle": "2022-04-19T12:08:44.411214Z",
     "shell.execute_reply": "2022-04-19T12:08:44.410404Z"
    },
    "papermill": {
     "duration": 1.219402,
     "end_time": "2022-04-19T12:08:44.414214",
     "exception": false,
     "start_time": "2022-04-19T12:08:43.194812",
     "status": "completed"
    },
    "tags": []
   },
   "outputs": [],
   "source": [
    "import pandas as pd \n",
    "import numpy as np\n",
    "import matplotlib.pyplot as plt\n",
    "import seaborn as sns\n",
    "from matplotlib.colors import ListedColormap\n",
    "%matplotlib inline\n",
    "from scipy import stats"
   ]
  },
  {
   "cell_type": "code",
   "execution_count": 3,
   "id": "ff17d989",
   "metadata": {
    "execution": {
     "iopub.execute_input": "2022-04-19T12:08:44.507931Z",
     "iopub.status.busy": "2022-04-19T12:08:44.507617Z",
     "iopub.status.idle": "2022-04-19T12:08:44.541549Z",
     "shell.execute_reply": "2022-04-19T12:08:44.540774Z"
    },
    "papermill": {
     "duration": 0.083175,
     "end_time": "2022-04-19T12:08:44.543853",
     "exception": false,
     "start_time": "2022-04-19T12:08:44.460678",
     "status": "completed"
    },
    "tags": []
   },
   "outputs": [
    {
     "name": "stdout",
     "output_type": "stream",
     "text": [
      "<class 'pandas.core.frame.DataFrame'>\n",
      "RangeIndex: 22 entries, 0 to 21\n",
      "Data columns (total 7 columns):\n",
      " #   Column                   Non-Null Count  Dtype  \n",
      "---  ------                   --------------  -----  \n",
      " 0   Emitten                  22 non-null     object \n",
      " 1   DER                      22 non-null     float64\n",
      " 2   Operating Profit Margin  22 non-null     float64\n",
      " 3   Return On Asset          22 non-null     float64\n",
      " 4   Sales Growth             22 non-null     float64\n",
      " 5   Category                 22 non-null     object \n",
      " 6   ;;;;                     0 non-null      float64\n",
      "dtypes: float64(5), object(2)\n",
      "memory usage: 1.3+ KB\n"
     ]
    }
   ],
   "source": [
    "df0 = pd.read_csv('../input/utsemitten/The Emitten.csv')\n",
    "df0.info()"
   ]
  },
  {
   "cell_type": "code",
   "execution_count": 4,
   "id": "e50263aa",
   "metadata": {
    "execution": {
     "iopub.execute_input": "2022-04-19T12:08:44.638029Z",
     "iopub.status.busy": "2022-04-19T12:08:44.637710Z",
     "iopub.status.idle": "2022-04-19T12:08:44.671551Z",
     "shell.execute_reply": "2022-04-19T12:08:44.670893Z"
    },
    "papermill": {
     "duration": 0.083797,
     "end_time": "2022-04-19T12:08:44.673927",
     "exception": false,
     "start_time": "2022-04-19T12:08:44.590130",
     "status": "completed"
    },
    "tags": []
   },
   "outputs": [
    {
     "data": {
      "text/html": [
       "<div>\n",
       "<style scoped>\n",
       "    .dataframe tbody tr th:only-of-type {\n",
       "        vertical-align: middle;\n",
       "    }\n",
       "\n",
       "    .dataframe tbody tr th {\n",
       "        vertical-align: top;\n",
       "    }\n",
       "\n",
       "    .dataframe thead th {\n",
       "        text-align: right;\n",
       "    }\n",
       "</style>\n",
       "<table border=\"1\" class=\"dataframe\">\n",
       "  <thead>\n",
       "    <tr style=\"text-align: right;\">\n",
       "      <th></th>\n",
       "      <th>DER</th>\n",
       "      <th>Operating Profit Margin</th>\n",
       "      <th>Return On Asset</th>\n",
       "      <th>Sales Growth</th>\n",
       "      <th>;;;;</th>\n",
       "    </tr>\n",
       "  </thead>\n",
       "  <tbody>\n",
       "    <tr>\n",
       "      <th>count</th>\n",
       "      <td>22.000000</td>\n",
       "      <td>22.000000</td>\n",
       "      <td>22.000000</td>\n",
       "      <td>22.000000</td>\n",
       "      <td>0.0</td>\n",
       "    </tr>\n",
       "    <tr>\n",
       "      <th>mean</th>\n",
       "      <td>-1.055455</td>\n",
       "      <td>45.152727</td>\n",
       "      <td>-0.015455</td>\n",
       "      <td>507.733682</td>\n",
       "      <td>NaN</td>\n",
       "    </tr>\n",
       "    <tr>\n",
       "      <th>std</th>\n",
       "      <td>13.468427</td>\n",
       "      <td>183.262699</td>\n",
       "      <td>0.079566</td>\n",
       "      <td>901.756502</td>\n",
       "      <td>NaN</td>\n",
       "    </tr>\n",
       "    <tr>\n",
       "      <th>min</th>\n",
       "      <td>-37.460000</td>\n",
       "      <td>-112.340000</td>\n",
       "      <td>-0.180000</td>\n",
       "      <td>8.950000</td>\n",
       "      <td>NaN</td>\n",
       "    </tr>\n",
       "    <tr>\n",
       "      <th>25%</th>\n",
       "      <td>0.185000</td>\n",
       "      <td>-35.470000</td>\n",
       "      <td>-0.077500</td>\n",
       "      <td>77.502500</td>\n",
       "      <td>NaN</td>\n",
       "    </tr>\n",
       "    <tr>\n",
       "      <th>50%</th>\n",
       "      <td>0.850000</td>\n",
       "      <td>2.505000</td>\n",
       "      <td>0.010000</td>\n",
       "      <td>169.560000</td>\n",
       "      <td>NaN</td>\n",
       "    </tr>\n",
       "    <tr>\n",
       "      <th>75%</th>\n",
       "      <td>1.735000</td>\n",
       "      <td>24.140000</td>\n",
       "      <td>0.040000</td>\n",
       "      <td>426.370000</td>\n",
       "      <td>NaN</td>\n",
       "    </tr>\n",
       "    <tr>\n",
       "      <th>max</th>\n",
       "      <td>33.250000</td>\n",
       "      <td>780.630000</td>\n",
       "      <td>0.130000</td>\n",
       "      <td>3905.500000</td>\n",
       "      <td>NaN</td>\n",
       "    </tr>\n",
       "  </tbody>\n",
       "</table>\n",
       "</div>"
      ],
      "text/plain": [
       "             DER  Operating Profit Margin  Return On Asset  Sales Growth  ;;;;\n",
       "count  22.000000                22.000000        22.000000     22.000000   0.0\n",
       "mean   -1.055455                45.152727        -0.015455    507.733682   NaN\n",
       "std    13.468427               183.262699         0.079566    901.756502   NaN\n",
       "min   -37.460000              -112.340000        -0.180000      8.950000   NaN\n",
       "25%     0.185000               -35.470000        -0.077500     77.502500   NaN\n",
       "50%     0.850000                 2.505000         0.010000    169.560000   NaN\n",
       "75%     1.735000                24.140000         0.040000    426.370000   NaN\n",
       "max    33.250000               780.630000         0.130000   3905.500000   NaN"
      ]
     },
     "execution_count": 4,
     "metadata": {},
     "output_type": "execute_result"
    }
   ],
   "source": [
    "df0.describe()"
   ]
  },
  {
   "cell_type": "markdown",
   "id": "224ec9e7",
   "metadata": {
    "papermill": {
     "duration": 0.048268,
     "end_time": "2022-04-19T12:08:44.769341",
     "exception": false,
     "start_time": "2022-04-19T12:08:44.721073",
     "status": "completed"
    },
    "tags": []
   },
   "source": [
    "# **1.2 Data Cleansing**"
   ]
  },
  {
   "cell_type": "code",
   "execution_count": 5,
   "id": "f1d9ce05",
   "metadata": {
    "execution": {
     "iopub.execute_input": "2022-04-19T12:08:44.866008Z",
     "iopub.status.busy": "2022-04-19T12:08:44.865283Z",
     "iopub.status.idle": "2022-04-19T12:08:44.870361Z",
     "shell.execute_reply": "2022-04-19T12:08:44.869800Z"
    },
    "papermill": {
     "duration": 0.054696,
     "end_time": "2022-04-19T12:08:44.872304",
     "exception": false,
     "start_time": "2022-04-19T12:08:44.817608",
     "status": "completed"
    },
    "tags": []
   },
   "outputs": [],
   "source": [
    "df0.drop([\"Emitten\",\"Category\"], axis=1, inplace=True)"
   ]
  },
  {
   "cell_type": "markdown",
   "id": "05124f80",
   "metadata": {
    "papermill": {
     "duration": 0.046221,
     "end_time": "2022-04-19T12:08:44.965174",
     "exception": false,
     "start_time": "2022-04-19T12:08:44.918953",
     "status": "completed"
    },
    "tags": []
   },
   "source": [
    "# **1.3 Scatter Plot**"
   ]
  },
  {
   "cell_type": "code",
   "execution_count": 6,
   "id": "e02d5407",
   "metadata": {
    "execution": {
     "iopub.execute_input": "2022-04-19T12:08:45.061450Z",
     "iopub.status.busy": "2022-04-19T12:08:45.060976Z",
     "iopub.status.idle": "2022-04-19T12:08:48.402553Z",
     "shell.execute_reply": "2022-04-19T12:08:48.401652Z"
    },
    "papermill": {
     "duration": 3.392121,
     "end_time": "2022-04-19T12:08:48.404806",
     "exception": false,
     "start_time": "2022-04-19T12:08:45.012685",
     "status": "completed"
    },
    "tags": []
   },
   "outputs": [
    {
     "data": {
      "text/plain": [
       "<Figure size 1080x1080 with 0 Axes>"
      ]
     },
     "metadata": {},
     "output_type": "display_data"
    },
    {
     "data": {
      "image/png": "[encoded data removed]",
      "text/plain": [
       "<Figure size 720x720 with 20 Axes>"
      ]
     },
     "metadata": {
      "needs_background": "light"
     },
     "output_type": "display_data"
    }
   ],
   "source": [
    "plt.figure(figsize=(15, 15))\n",
    "sns.pairplot(df0, vars = df0.columns[1:13]);"
   ]
  },
  {
   "cell_type": "markdown",
   "id": "8b0f5cd2",
   "metadata": {
    "papermill": {
     "duration": 0.048475,
     "end_time": "2022-04-19T12:08:48.501769",
     "exception": false,
     "start_time": "2022-04-19T12:08:48.453294",
     "status": "completed"
    },
    "tags": []
   },
   "source": [
    "# **2. Clustering**"
   ]
  },
  {
   "cell_type": "markdown",
   "id": "535548c6",
   "metadata": {
    "papermill": {
     "duration": 0.047975,
     "end_time": "2022-04-19T12:08:48.598679",
     "exception": false,
     "start_time": "2022-04-19T12:08:48.550704",
     "status": "completed"
    },
    "tags": []
   },
   "source": [
    "# **2.1 load data**"
   ]
  },
  {
   "cell_type": "code",
   "execution_count": 7,
   "id": "81a56e22",
   "metadata": {
    "execution": {
     "iopub.execute_input": "2022-04-19T12:08:48.697973Z",
     "iopub.status.busy": "2022-04-19T12:08:48.697670Z",
     "iopub.status.idle": "2022-04-19T12:08:48.720639Z",
     "shell.execute_reply": "2022-04-19T12:08:48.719804Z"
    },
    "papermill": {
     "duration": 0.074754,
     "end_time": "2022-04-19T12:08:48.722822",
     "exception": false,
     "start_time": "2022-04-19T12:08:48.648068",
     "status": "completed"
    },
    "tags": []
   },
   "outputs": [
    {
     "data": {
      "text/html": [
       "<div>\n",
       "<style scoped>\n",
       "    .dataframe tbody tr th:only-of-type {\n",
       "        vertical-align: middle;\n",
       "    }\n",
       "\n",
       "    .dataframe tbody tr th {\n",
       "        vertical-align: top;\n",
       "    }\n",
       "\n",
       "    .dataframe thead th {\n",
       "        text-align: right;\n",
       "    }\n",
       "</style>\n",
       "<table border=\"1\" class=\"dataframe\">\n",
       "  <thead>\n",
       "    <tr style=\"text-align: right;\">\n",
       "      <th></th>\n",
       "      <th>DER</th>\n",
       "      <th>Operating Profit Margin</th>\n",
       "      <th>Sales Growth</th>\n",
       "    </tr>\n",
       "  </thead>\n",
       "  <tbody>\n",
       "    <tr>\n",
       "      <th>count</th>\n",
       "      <td>22.000000</td>\n",
       "      <td>22.000000</td>\n",
       "      <td>22.000000</td>\n",
       "    </tr>\n",
       "    <tr>\n",
       "      <th>mean</th>\n",
       "      <td>-1.055455</td>\n",
       "      <td>45.152727</td>\n",
       "      <td>507.733682</td>\n",
       "    </tr>\n",
       "    <tr>\n",
       "      <th>std</th>\n",
       "      <td>13.468427</td>\n",
       "      <td>183.262699</td>\n",
       "      <td>901.756502</td>\n",
       "    </tr>\n",
       "    <tr>\n",
       "      <th>min</th>\n",
       "      <td>-37.460000</td>\n",
       "      <td>-112.340000</td>\n",
       "      <td>8.950000</td>\n",
       "    </tr>\n",
       "    <tr>\n",
       "      <th>25%</th>\n",
       "      <td>0.185000</td>\n",
       "      <td>-35.470000</td>\n",
       "      <td>77.502500</td>\n",
       "    </tr>\n",
       "    <tr>\n",
       "      <th>50%</th>\n",
       "      <td>0.850000</td>\n",
       "      <td>2.505000</td>\n",
       "      <td>169.560000</td>\n",
       "    </tr>\n",
       "    <tr>\n",
       "      <th>75%</th>\n",
       "      <td>1.735000</td>\n",
       "      <td>24.140000</td>\n",
       "      <td>426.370000</td>\n",
       "    </tr>\n",
       "    <tr>\n",
       "      <th>max</th>\n",
       "      <td>33.250000</td>\n",
       "      <td>780.630000</td>\n",
       "      <td>3905.500000</td>\n",
       "    </tr>\n",
       "  </tbody>\n",
       "</table>\n",
       "</div>"
      ],
      "text/plain": [
       "             DER  Operating Profit Margin  Sales Growth\n",
       "count  22.000000                22.000000     22.000000\n",
       "mean   -1.055455                45.152727    507.733682\n",
       "std    13.468427               183.262699    901.756502\n",
       "min   -37.460000              -112.340000      8.950000\n",
       "25%     0.185000               -35.470000     77.502500\n",
       "50%     0.850000                 2.505000    169.560000\n",
       "75%     1.735000                24.140000    426.370000\n",
       "max    33.250000               780.630000   3905.500000"
      ]
     },
     "execution_count": 7,
     "metadata": {},
     "output_type": "execute_result"
    }
   ],
   "source": [
    "df0 = pd.read_csv('../input/utsemitten/The Emitten.csv')\n",
    "df1 = df0[['DER','Operating Profit Margin','Sales Growth','Category']]\n",
    "df1.describe()"
   ]
  },
  {
   "cell_type": "code",
   "execution_count": 8,
   "id": "10d23809",
   "metadata": {
    "execution": {
     "iopub.execute_input": "2022-04-19T12:08:48.828034Z",
     "iopub.status.busy": "2022-04-19T12:08:48.827762Z",
     "iopub.status.idle": "2022-04-19T12:08:49.126524Z",
     "shell.execute_reply": "2022-04-19T12:08:49.125663Z"
    },
    "papermill": {
     "duration": 0.354963,
     "end_time": "2022-04-19T12:08:49.128845",
     "exception": false,
     "start_time": "2022-04-19T12:08:48.773882",
     "status": "completed"
    },
    "tags": []
   },
   "outputs": [
    {
     "data": {
      "text/plain": [
       "<AxesSubplot:xlabel='Emitten', ylabel='Operating Profit Margin'>"
      ]
     },
     "execution_count": 8,
     "metadata": {},
     "output_type": "execute_result"
    },
    {
     "data": {
      "image/png": "[encoded data removed]",
      "text/plain": [
       "<Figure size 1296x288 with 1 Axes>"
      ]
     },
     "metadata": {
      "needs_background": "light"
     },
     "output_type": "display_data"
    }
   ],
   "source": [
    "plt.figure(figsize=(18, 4))\n",
    "plt.xticks(rotation=45)\n",
    "sns.scatterplot(x='Emitten', y='Operating Profit Margin', \n",
    "                data=df0, s=80)"
   ]
  },
  {
   "cell_type": "code",
   "execution_count": 9,
   "id": "8e15a686",
   "metadata": {
    "execution": {
     "iopub.execute_input": "2022-04-19T12:08:49.232474Z",
     "iopub.status.busy": "2022-04-19T12:08:49.232082Z",
     "iopub.status.idle": "2022-04-19T12:08:49.539472Z",
     "shell.execute_reply": "2022-04-19T12:08:49.538579Z"
    },
    "papermill": {
     "duration": 0.361811,
     "end_time": "2022-04-19T12:08:49.541669",
     "exception": false,
     "start_time": "2022-04-19T12:08:49.179858",
     "status": "completed"
    },
    "tags": []
   },
   "outputs": [
    {
     "data": {
      "text/plain": [
       "<AxesSubplot:xlabel='Emitten', ylabel='DER'>"
      ]
     },
     "execution_count": 9,
     "metadata": {},
     "output_type": "execute_result"
    },
    {
     "data": {
      "image/png": "[encoded data removed]",
      "text/plain": [
       "<Figure size 1296x288 with 1 Axes>"
      ]
     },
     "metadata": {
      "needs_background": "light"
     },
     "output_type": "display_data"
    }
   ],
   "source": [
    "plt.figure(figsize=(18, 4))\n",
    "plt.xticks(rotation=45)\n",
    "sns.scatterplot(x='Emitten', y='DER', \n",
    "                data=df0, s=80)"
   ]
  },
  {
   "cell_type": "code",
   "execution_count": 10,
   "id": "5f62c916",
   "metadata": {
    "execution": {
     "iopub.execute_input": "2022-04-19T12:08:49.647671Z",
     "iopub.status.busy": "2022-04-19T12:08:49.647249Z",
     "iopub.status.idle": "2022-04-19T12:08:49.960567Z",
     "shell.execute_reply": "2022-04-19T12:08:49.959445Z"
    },
    "papermill": {
     "duration": 0.369345,
     "end_time": "2022-04-19T12:08:49.962967",
     "exception": false,
     "start_time": "2022-04-19T12:08:49.593622",
     "status": "completed"
    },
    "tags": []
   },
   "outputs": [
    {
     "data": {
      "text/plain": [
       "<AxesSubplot:xlabel='Emitten', ylabel='Sales Growth'>"
      ]
     },
     "execution_count": 10,
     "metadata": {},
     "output_type": "execute_result"
    },
    {
     "data": {
      "image/png": "[encoded data removed]",
      "text/plain": [
       "<Figure size 1296x288 with 1 Axes>"
      ]
     },
     "metadata": {
      "needs_background": "light"
     },
     "output_type": "display_data"
    }
   ],
   "source": [
    "plt.figure(figsize=(18, 4))\n",
    "plt.xticks(rotation=45)\n",
    "sns.scatterplot(x='Emitten', y='Sales Growth', \n",
    "                data=df0, s=80)"
   ]
  },
  {
   "cell_type": "markdown",
   "id": "161e0569",
   "metadata": {
    "papermill": {
     "duration": 0.053803,
     "end_time": "2022-04-19T12:08:50.071395",
     "exception": false,
     "start_time": "2022-04-19T12:08:50.017592",
     "status": "completed"
    },
    "tags": []
   },
   "source": [
    "# **2.2 Outlier**"
   ]
  },
  {
   "cell_type": "code",
   "execution_count": 11,
   "id": "2036835b",
   "metadata": {
    "execution": {
     "iopub.execute_input": "2022-04-19T12:08:50.187956Z",
     "iopub.status.busy": "2022-04-19T12:08:50.187104Z",
     "iopub.status.idle": "2022-04-19T12:08:50.197315Z",
     "shell.execute_reply": "2022-04-19T12:08:50.196334Z"
    },
    "papermill": {
     "duration": 0.068793,
     "end_time": "2022-04-19T12:08:50.199545",
     "exception": false,
     "start_time": "2022-04-19T12:08:50.130752",
     "status": "completed"
    },
    "tags": []
   },
   "outputs": [
    {
     "name": "stdout",
     "output_type": "stream",
     "text": [
      "Jumlah baris sebelum memfilter outlier: 22\n",
      "Jumlah baris setelah memfilter outlier: 21\n"
     ]
    }
   ],
   "source": [
    "print(f'Jumlah baris sebelum memfilter outlier: {len(df1)}')\n",
    "\n",
    "filtered_entries = np.array([False] * len(df1))\n",
    "for col in ['Operating Profit Margin']:\n",
    "    zscore = abs(stats.zscore(df1[col]))\n",
    "    filtered_entries = (zscore < 3) | filtered_entries\n",
    "    \n",
    "df1 = df1[filtered_entries]\n",
    "\n",
    "print(f'Jumlah baris setelah memfilter outlier: {len(df1)}')"
   ]
  },
  {
   "cell_type": "code",
   "execution_count": 12,
   "id": "6ebc3258",
   "metadata": {
    "execution": {
     "iopub.execute_input": "2022-04-19T12:08:50.313641Z",
     "iopub.status.busy": "2022-04-19T12:08:50.313339Z",
     "iopub.status.idle": "2022-04-19T12:08:50.332138Z",
     "shell.execute_reply": "2022-04-19T12:08:50.331195Z"
    },
    "papermill": {
     "duration": 0.076674,
     "end_time": "2022-04-19T12:08:50.334079",
     "exception": false,
     "start_time": "2022-04-19T12:08:50.257405",
     "status": "completed"
    },
    "tags": []
   },
   "outputs": [
    {
     "data": {
      "text/html": [
       "<div>\n",
       "<style scoped>\n",
       "    .dataframe tbody tr th:only-of-type {\n",
       "        vertical-align: middle;\n",
       "    }\n",
       "\n",
       "    .dataframe tbody tr th {\n",
       "        vertical-align: top;\n",
       "    }\n",
       "\n",
       "    .dataframe thead th {\n",
       "        text-align: right;\n",
       "    }\n",
       "</style>\n",
       "<table border=\"1\" class=\"dataframe\">\n",
       "  <thead>\n",
       "    <tr style=\"text-align: right;\">\n",
       "      <th></th>\n",
       "      <th>DER</th>\n",
       "      <th>Operating Profit Margin</th>\n",
       "      <th>Sales Growth</th>\n",
       "    </tr>\n",
       "  </thead>\n",
       "  <tbody>\n",
       "    <tr>\n",
       "      <th>count</th>\n",
       "      <td>21.000000</td>\n",
       "      <td>21.000000</td>\n",
       "      <td>21.000000</td>\n",
       "    </tr>\n",
       "    <tr>\n",
       "      <th>mean</th>\n",
       "      <td>-1.150952</td>\n",
       "      <td>10.130000</td>\n",
       "      <td>527.553381</td>\n",
       "    </tr>\n",
       "    <tr>\n",
       "      <th>std</th>\n",
       "      <td>13.793396</td>\n",
       "      <td>83.247917</td>\n",
       "      <td>919.102211</td>\n",
       "    </tr>\n",
       "    <tr>\n",
       "      <th>min</th>\n",
       "      <td>-37.460000</td>\n",
       "      <td>-112.340000</td>\n",
       "      <td>8.950000</td>\n",
       "    </tr>\n",
       "    <tr>\n",
       "      <th>25%</th>\n",
       "      <td>0.090000</td>\n",
       "      <td>-35.700000</td>\n",
       "      <td>72.830000</td>\n",
       "    </tr>\n",
       "    <tr>\n",
       "      <th>50%</th>\n",
       "      <td>0.750000</td>\n",
       "      <td>0.240000</td>\n",
       "      <td>180.640000</td>\n",
       "    </tr>\n",
       "    <tr>\n",
       "      <th>75%</th>\n",
       "      <td>1.750000</td>\n",
       "      <td>19.520000</td>\n",
       "      <td>464.640000</td>\n",
       "    </tr>\n",
       "    <tr>\n",
       "      <th>max</th>\n",
       "      <td>33.250000</td>\n",
       "      <td>249.690000</td>\n",
       "      <td>3905.500000</td>\n",
       "    </tr>\n",
       "  </tbody>\n",
       "</table>\n",
       "</div>"
      ],
      "text/plain": [
       "             DER  Operating Profit Margin  Sales Growth\n",
       "count  21.000000                21.000000     21.000000\n",
       "mean   -1.150952                10.130000    527.553381\n",
       "std    13.793396                83.247917    919.102211\n",
       "min   -37.460000              -112.340000      8.950000\n",
       "25%     0.090000               -35.700000     72.830000\n",
       "50%     0.750000                 0.240000    180.640000\n",
       "75%     1.750000                19.520000    464.640000\n",
       "max    33.250000               249.690000   3905.500000"
      ]
     },
     "execution_count": 12,
     "metadata": {},
     "output_type": "execute_result"
    }
   ],
   "source": [
    "df1.describe()"
   ]
  },
  {
   "cell_type": "markdown",
   "id": "384c58a8",
   "metadata": {
    "papermill": {
     "duration": 0.05458,
     "end_time": "2022-04-19T12:08:50.443362",
     "exception": false,
     "start_time": "2022-04-19T12:08:50.388782",
     "status": "completed"
    },
    "tags": []
   },
   "source": [
    "# **2.3 Standardisasi Fitur**"
   ]
  },
  {
   "cell_type": "code",
   "execution_count": 13,
   "id": "c62fb26e",
   "metadata": {
    "execution": {
     "iopub.execute_input": "2022-04-19T12:08:50.555152Z",
     "iopub.status.busy": "2022-04-19T12:08:50.554459Z",
     "iopub.status.idle": "2022-04-19T12:08:50.710872Z",
     "shell.execute_reply": "2022-04-19T12:08:50.710017Z"
    },
    "papermill": {
     "duration": 0.215001,
     "end_time": "2022-04-19T12:08:50.713186",
     "exception": false,
     "start_time": "2022-04-19T12:08:50.498185",
     "status": "completed"
    },
    "tags": []
   },
   "outputs": [
    {
     "data": {
      "text/html": [
       "<div>\n",
       "<style scoped>\n",
       "    .dataframe tbody tr th:only-of-type {\n",
       "        vertical-align: middle;\n",
       "    }\n",
       "\n",
       "    .dataframe tbody tr th {\n",
       "        vertical-align: top;\n",
       "    }\n",
       "\n",
       "    .dataframe thead th {\n",
       "        text-align: right;\n",
       "    }\n",
       "</style>\n",
       "<table border=\"1\" class=\"dataframe\">\n",
       "  <thead>\n",
       "    <tr style=\"text-align: right;\">\n",
       "      <th></th>\n",
       "      <th>DER</th>\n",
       "      <th>Operating Profit Margin</th>\n",
       "      <th>Sales Growth</th>\n",
       "    </tr>\n",
       "  </thead>\n",
       "  <tbody>\n",
       "    <tr>\n",
       "      <th>count</th>\n",
       "      <td>2.100000e+01</td>\n",
       "      <td>2.100000e+01</td>\n",
       "      <td>2.100000e+01</td>\n",
       "    </tr>\n",
       "    <tr>\n",
       "      <th>mean</th>\n",
       "      <td>5.485030e-17</td>\n",
       "      <td>-1.387779e-17</td>\n",
       "      <td>3.172066e-17</td>\n",
       "    </tr>\n",
       "    <tr>\n",
       "      <th>std</th>\n",
       "      <td>1.024695e+00</td>\n",
       "      <td>1.024695e+00</td>\n",
       "      <td>1.024695e+00</td>\n",
       "    </tr>\n",
       "    <tr>\n",
       "      <th>min</th>\n",
       "      <td>-2.697356e+00</td>\n",
       "      <td>-1.507478e+00</td>\n",
       "      <td>-5.781842e-01</td>\n",
       "    </tr>\n",
       "    <tr>\n",
       "      <th>25%</th>\n",
       "      <td>9.218888e-02</td>\n",
       "      <td>-5.641195e-01</td>\n",
       "      <td>-5.069652e-01</td>\n",
       "    </tr>\n",
       "    <tr>\n",
       "      <th>50%</th>\n",
       "      <td>1.412195e-01</td>\n",
       "      <td>-1.217356e-01</td>\n",
       "      <td>-3.867692e-01</td>\n",
       "    </tr>\n",
       "    <tr>\n",
       "      <th>75%</th>\n",
       "      <td>2.155083e-01</td>\n",
       "      <td>1.155811e-01</td>\n",
       "      <td>-7.014131e-02</td>\n",
       "    </tr>\n",
       "    <tr>\n",
       "      <th>max</th>\n",
       "      <td>2.555606e+00</td>\n",
       "      <td>2.948734e+00</td>\n",
       "      <td>3.766029e+00</td>\n",
       "    </tr>\n",
       "  </tbody>\n",
       "</table>\n",
       "</div>"
      ],
      "text/plain": [
       "                DER  Operating Profit Margin  Sales Growth\n",
       "count  2.100000e+01             2.100000e+01  2.100000e+01\n",
       "mean   5.485030e-17            -1.387779e-17  3.172066e-17\n",
       "std    1.024695e+00             1.024695e+00  1.024695e+00\n",
       "min   -2.697356e+00            -1.507478e+00 -5.781842e-01\n",
       "25%    9.218888e-02            -5.641195e-01 -5.069652e-01\n",
       "50%    1.412195e-01            -1.217356e-01 -3.867692e-01\n",
       "75%    2.155083e-01             1.155811e-01 -7.014131e-02\n",
       "max    2.555606e+00             2.948734e+00  3.766029e+00"
      ]
     },
     "execution_count": 13,
     "metadata": {},
     "output_type": "execute_result"
    }
   ],
   "source": [
    "feats = ['DER','Operating Profit Margin','Sales Growth']\n",
    "X = df1[feats].values\n",
    "y = df1['Category'].values\n",
    "\n",
    "from sklearn.preprocessing import StandardScaler\n",
    "X_std = StandardScaler().fit_transform(X)\n",
    "new_df = pd.DataFrame(data = X_std, columns = feats)\n",
    "new_df.describe()"
   ]
  },
  {
   "cell_type": "markdown",
   "id": "00b4d860",
   "metadata": {
    "papermill": {
     "duration": 0.055269,
     "end_time": "2022-04-19T12:08:50.824710",
     "exception": false,
     "start_time": "2022-04-19T12:08:50.769441",
     "status": "completed"
    },
    "tags": []
   },
   "source": [
    "# **2.4 Lakukan K-means**"
   ]
  },
  {
   "cell_type": "code",
   "execution_count": 14,
   "id": "2986a759",
   "metadata": {
    "execution": {
     "iopub.execute_input": "2022-04-19T12:08:50.937355Z",
     "iopub.status.busy": "2022-04-19T12:08:50.937079Z",
     "iopub.status.idle": "2022-04-19T12:08:51.785884Z",
     "shell.execute_reply": "2022-04-19T12:08:51.784965Z"
    },
    "papermill": {
     "duration": 0.907254,
     "end_time": "2022-04-19T12:08:51.788085",
     "exception": false,
     "start_time": "2022-04-19T12:08:50.880831",
     "status": "completed"
    },
    "tags": []
   },
   "outputs": [
    {
     "data": {
      "text/plain": [
       "[<matplotlib.lines.Line2D at 0x7f150d4a1f90>]"
      ]
     },
     "execution_count": 14,
     "metadata": {},
     "output_type": "execute_result"
    },
    {
     "data": {
      "image/png": "[encoded data removed]",
      "text/plain": [
       "<Figure size 864x432 with 1 Axes>"
      ]
     },
     "metadata": {
      "needs_background": "light"
     },
     "output_type": "display_data"
    }
   ],
   "source": [
    "from sklearn.cluster import KMeans\n",
    "inertia = []\n",
    "\n",
    "for i in range(1, 11):\n",
    "  kmeans = KMeans(n_clusters=i, init='k-means++', max_iter=300, n_init=10, random_state=0)\n",
    "  kmeans.fit(new_df.values)\n",
    "  inertia.append(kmeans.inertia_)\n",
    "\n",
    "plt.figure(figsize=(12, 6))\n",
    "plt.plot(inertia) #Elbow Method"
   ]
  },
  {
   "cell_type": "markdown",
   "id": "f30055cf",
   "metadata": {
    "papermill": {
     "duration": 0.055591,
     "end_time": "2022-04-19T12:08:51.899904",
     "exception": false,
     "start_time": "2022-04-19T12:08:51.844313",
     "status": "completed"
    },
    "tags": []
   },
   "source": [
    "# **2.5 Pilih Jumlah Cluster**"
   ]
  },
  {
   "cell_type": "code",
   "execution_count": 15,
   "id": "f744caa8",
   "metadata": {
    "execution": {
     "iopub.execute_input": "2022-04-19T12:08:52.016138Z",
     "iopub.status.busy": "2022-04-19T12:08:52.015209Z",
     "iopub.status.idle": "2022-04-19T12:08:52.059463Z",
     "shell.execute_reply": "2022-04-19T12:08:52.058530Z"
    },
    "papermill": {
     "duration": 0.105993,
     "end_time": "2022-04-19T12:08:52.061827",
     "exception": false,
     "start_time": "2022-04-19T12:08:51.955834",
     "status": "completed"
    },
    "tags": []
   },
   "outputs": [
    {
     "data": {
      "text/plain": [
       "KMeans(n_clusters=5, random_state=0)"
      ]
     },
     "execution_count": 15,
     "metadata": {},
     "output_type": "execute_result"
    }
   ],
   "source": [
    "from sklearn.cluster import KMeans\n",
    "kmeans = KMeans(n_clusters=5, init='k-means++', max_iter=300, n_init=10, random_state=0)\n",
    "kmeans.fit(new_df.values)"
   ]
  },
  {
   "cell_type": "code",
   "execution_count": 16,
   "id": "9daa47ea",
   "metadata": {
    "execution": {
     "iopub.execute_input": "2022-04-19T12:08:52.176503Z",
     "iopub.status.busy": "2022-04-19T12:08:52.176200Z",
     "iopub.status.idle": "2022-04-19T12:08:52.181872Z",
     "shell.execute_reply": "2022-04-19T12:08:52.181281Z"
    },
    "papermill": {
     "duration": 0.06517,
     "end_time": "2022-04-19T12:08:52.183616",
     "exception": false,
     "start_time": "2022-04-19T12:08:52.118446",
     "status": "completed"
    },
    "tags": []
   },
   "outputs": [],
   "source": [
    "new_df['target'] = y\n",
    "new_df['fit'] = kmeans.labels_"
   ]
  },
  {
   "cell_type": "markdown",
   "id": "8b0de40b",
   "metadata": {
    "papermill": {
     "duration": 0.057413,
     "end_time": "2022-04-19T12:08:52.299953",
     "exception": false,
     "start_time": "2022-04-19T12:08:52.242540",
     "status": "completed"
    },
    "tags": []
   },
   "source": [
    "# **2.6 Plot Cluster**"
   ]
  },
  {
   "cell_type": "code",
   "execution_count": 17,
   "id": "66973194",
   "metadata": {
    "execution": {
     "iopub.execute_input": "2022-04-19T12:08:52.415324Z",
     "iopub.status.busy": "2022-04-19T12:08:52.414399Z",
     "iopub.status.idle": "2022-04-19T12:08:52.666521Z",
     "shell.execute_reply": "2022-04-19T12:08:52.665737Z"
    },
    "papermill": {
     "duration": 0.312228,
     "end_time": "2022-04-19T12:08:52.668717",
     "exception": false,
     "start_time": "2022-04-19T12:08:52.356489",
     "status": "completed"
    },
    "tags": []
   },
   "outputs": [
    {
     "data": {
      "image/png": "[encoded data removed]",
      "text/plain": [
       "<Figure size 576x576 with 1 Axes>"
      ]
     },
     "metadata": {
      "needs_background": "light"
     },
     "output_type": "display_data"
    }
   ],
   "source": [
    "plt.rcParams[\"figure.figsize\"] = (8, 8)\n",
    "sns.scatterplot(x='DER', y='Operating Profit Margin', hue=new_df.target.to_list(), data=new_df);"
   ]
  },
  {
   "cell_type": "code",
   "execution_count": 18,
   "id": "16f6ff79",
   "metadata": {
    "execution": {
     "iopub.execute_input": "2022-04-19T12:08:52.787180Z",
     "iopub.status.busy": "2022-04-19T12:08:52.786367Z",
     "iopub.status.idle": "2022-04-19T12:08:52.798077Z",
     "shell.execute_reply": "2022-04-19T12:08:52.797260Z"
    },
    "papermill": {
     "duration": 0.072792,
     "end_time": "2022-04-19T12:08:52.800111",
     "exception": false,
     "start_time": "2022-04-19T12:08:52.727319",
     "status": "completed"
    },
    "tags": []
   },
   "outputs": [
    {
     "data": {
      "text/html": [
       "<div>\n",
       "<style scoped>\n",
       "    .dataframe tbody tr th:only-of-type {\n",
       "        vertical-align: middle;\n",
       "    }\n",
       "\n",
       "    .dataframe tbody tr th {\n",
       "        vertical-align: top;\n",
       "    }\n",
       "\n",
       "    .dataframe thead th {\n",
       "        text-align: right;\n",
       "    }\n",
       "</style>\n",
       "<table border=\"1\" class=\"dataframe\">\n",
       "  <thead>\n",
       "    <tr style=\"text-align: right;\">\n",
       "      <th></th>\n",
       "      <th>DER</th>\n",
       "      <th>Operating Profit Margin</th>\n",
       "      <th>Sales Growth</th>\n",
       "      <th>target</th>\n",
       "      <th>fit</th>\n",
       "    </tr>\n",
       "  </thead>\n",
       "  <tbody>\n",
       "    <tr>\n",
       "      <th>0</th>\n",
       "      <td>-0.049703</td>\n",
       "      <td>-0.853134</td>\n",
       "      <td>-0.533867</td>\n",
       "      <td>;;;;</td>\n",
       "      <td>0</td>\n",
       "    </tr>\n",
       "    <tr>\n",
       "      <th>1</th>\n",
       "      <td>0.132305</td>\n",
       "      <td>-1.087866</td>\n",
       "      <td>-0.246550</td>\n",
       "      <td>;;;;</td>\n",
       "      <td>0</td>\n",
       "    </tr>\n",
       "    <tr>\n",
       "      <th>2</th>\n",
       "      <td>0.163506</td>\n",
       "      <td>-0.065976</td>\n",
       "      <td>-0.260776</td>\n",
       "      <td>;;;;</td>\n",
       "      <td>0</td>\n",
       "    </tr>\n",
       "    <tr>\n",
       "      <th>3</th>\n",
       "      <td>2.555606</td>\n",
       "      <td>-0.402872</td>\n",
       "      <td>-0.557146</td>\n",
       "      <td>;;;;</td>\n",
       "      <td>3</td>\n",
       "    </tr>\n",
       "    <tr>\n",
       "      <th>4</th>\n",
       "      <td>-0.266626</td>\n",
       "      <td>-0.564120</td>\n",
       "      <td>-0.364338</td>\n",
       "      <td>;;;;</td>\n",
       "      <td>0</td>\n",
       "    </tr>\n",
       "  </tbody>\n",
       "</table>\n",
       "</div>"
      ],
      "text/plain": [
       "        DER  Operating Profit Margin  Sales Growth target  fit\n",
       "0 -0.049703                -0.853134     -0.533867   ;;;;    0\n",
       "1  0.132305                -1.087866     -0.246550   ;;;;    0\n",
       "2  0.163506                -0.065976     -0.260776   ;;;;    0\n",
       "3  2.555606                -0.402872     -0.557146   ;;;;    3\n",
       "4 -0.266626                -0.564120     -0.364338   ;;;;    0"
      ]
     },
     "execution_count": 18,
     "metadata": {},
     "output_type": "execute_result"
    }
   ],
   "source": [
    "new_df.head(5)"
   ]
  },
  {
   "cell_type": "markdown",
   "id": "080a45b8",
   "metadata": {
    "papermill": {
     "duration": 0.058119,
     "end_time": "2022-04-19T12:08:52.916549",
     "exception": false,
     "start_time": "2022-04-19T12:08:52.858430",
     "status": "completed"
    },
    "tags": []
   },
   "source": [
    "Assign fit to Category to create correct colour indicator"
   ]
  },
  {
   "cell_type": "code",
   "execution_count": 19,
   "id": "7d8bc79a",
   "metadata": {
    "execution": {
     "iopub.execute_input": "2022-04-19T12:08:53.037026Z",
     "iopub.status.busy": "2022-04-19T12:08:53.036686Z",
     "iopub.status.idle": "2022-04-19T12:08:53.056538Z",
     "shell.execute_reply": "2022-04-19T12:08:53.055762Z"
    },
    "papermill": {
     "duration": 0.082635,
     "end_time": "2022-04-19T12:08:53.058558",
     "exception": false,
     "start_time": "2022-04-19T12:08:52.975923",
     "status": "completed"
    },
    "tags": []
   },
   "outputs": [
    {
     "data": {
      "text/html": [
       "<div>\n",
       "<style scoped>\n",
       "    .dataframe tbody tr th:only-of-type {\n",
       "        vertical-align: middle;\n",
       "    }\n",
       "\n",
       "    .dataframe tbody tr th {\n",
       "        vertical-align: top;\n",
       "    }\n",
       "\n",
       "    .dataframe thead th {\n",
       "        text-align: right;\n",
       "    }\n",
       "</style>\n",
       "<table border=\"1\" class=\"dataframe\">\n",
       "  <thead>\n",
       "    <tr style=\"text-align: right;\">\n",
       "      <th></th>\n",
       "      <th>Category</th>\n",
       "      <th>DER</th>\n",
       "      <th>Operating Profit Margin</th>\n",
       "      <th>Sales Growth</th>\n",
       "      <th>target</th>\n",
       "      <th>fit</th>\n",
       "    </tr>\n",
       "  </thead>\n",
       "  <tbody>\n",
       "    <tr>\n",
       "      <th>0</th>\n",
       "      <td>2</td>\n",
       "      <td>-0.049703</td>\n",
       "      <td>-0.853134</td>\n",
       "      <td>-0.533867</td>\n",
       "      <td>;;;;</td>\n",
       "      <td>0</td>\n",
       "    </tr>\n",
       "    <tr>\n",
       "      <th>1</th>\n",
       "      <td>2</td>\n",
       "      <td>0.132305</td>\n",
       "      <td>-1.087866</td>\n",
       "      <td>-0.246550</td>\n",
       "      <td>;;;;</td>\n",
       "      <td>0</td>\n",
       "    </tr>\n",
       "    <tr>\n",
       "      <th>2</th>\n",
       "      <td>2</td>\n",
       "      <td>0.163506</td>\n",
       "      <td>-0.065976</td>\n",
       "      <td>-0.260776</td>\n",
       "      <td>;;;;</td>\n",
       "      <td>0</td>\n",
       "    </tr>\n",
       "    <tr>\n",
       "      <th>3</th>\n",
       "      <td>0</td>\n",
       "      <td>2.555606</td>\n",
       "      <td>-0.402872</td>\n",
       "      <td>-0.557146</td>\n",
       "      <td>;;;;</td>\n",
       "      <td>3</td>\n",
       "    </tr>\n",
       "    <tr>\n",
       "      <th>4</th>\n",
       "      <td>2</td>\n",
       "      <td>-0.266626</td>\n",
       "      <td>-0.564120</td>\n",
       "      <td>-0.364338</td>\n",
       "      <td>;;;;</td>\n",
       "      <td>0</td>\n",
       "    </tr>\n",
       "  </tbody>\n",
       "</table>\n",
       "</div>"
      ],
      "text/plain": [
       "   Category       DER  Operating Profit Margin  Sales Growth target  fit\n",
       "0         2 -0.049703                -0.853134     -0.533867   ;;;;    0\n",
       "1         2  0.132305                -1.087866     -0.246550   ;;;;    0\n",
       "2         2  0.163506                -0.065976     -0.260776   ;;;;    0\n",
       "3         0  2.555606                -0.402872     -0.557146   ;;;;    3\n",
       "4         2 -0.266626                -0.564120     -0.364338   ;;;;    0"
      ]
     },
     "execution_count": 19,
     "metadata": {},
     "output_type": "execute_result"
    }
   ],
   "source": [
    "new_df.insert(0,\"Category\",np.nan,True)\n",
    "new_df.loc[new_df['fit'] == 0, 'Category'] = 2\n",
    "new_df.loc[new_df['fit'] == 1, 'Category'] = 4\n",
    "new_df.loc[new_df['fit'] == 2, 'Category'] = 1\n",
    "new_df.loc[new_df['fit'] == 3, 'Category'] = 0\n",
    "new_df.loc[new_df['fit'] == 4, 'Category'] = 3\n",
    "new_df['Category'] = new_df['Category'].astype(int)\n",
    "new_df.head(5)"
   ]
  },
  {
   "cell_type": "markdown",
   "id": "078806ad",
   "metadata": {
    "papermill": {
     "duration": 0.058664,
     "end_time": "2022-04-19T12:08:53.177532",
     "exception": false,
     "start_time": "2022-04-19T12:08:53.118868",
     "status": "completed"
    },
    "tags": []
   },
   "source": [
    "Adjust column name to (St.) = Standardized"
   ]
  },
  {
   "cell_type": "code",
   "execution_count": 20,
   "id": "1735ef7a",
   "metadata": {
    "execution": {
     "iopub.execute_input": "2022-04-19T12:08:53.310391Z",
     "iopub.status.busy": "2022-04-19T12:08:53.309139Z",
     "iopub.status.idle": "2022-04-19T12:08:53.328347Z",
     "shell.execute_reply": "2022-04-19T12:08:53.327693Z"
    },
    "papermill": {
     "duration": 0.092542,
     "end_time": "2022-04-19T12:08:53.330499",
     "exception": false,
     "start_time": "2022-04-19T12:08:53.237957",
     "status": "completed"
    },
    "tags": []
   },
   "outputs": [
    {
     "name": "stdout",
     "output_type": "stream",
     "text": [
      "<class 'pandas.core.frame.DataFrame'>\n",
      "RangeIndex: 21 entries, 0 to 20\n",
      "Data columns (total 4 columns):\n",
      " #   Column                         Non-Null Count  Dtype  \n",
      "---  ------                         --------------  -----  \n",
      " 0   Category                       21 non-null     int64  \n",
      " 1   DER (St.)                      21 non-null     float64\n",
      " 2   Operating Profit Margin (St.)  21 non-null     float64\n",
      " 3   Sales Growth (St.)             21 non-null     float64\n",
      "dtypes: float64(3), int64(1)\n",
      "memory usage: 800.0 bytes\n"
     ]
    }
   ],
   "source": [
    "new_df.drop([\"fit\",\"target\"], axis=1, inplace=True)\n",
    "new_df.columns = ['Category','DER (St.)','Operating Profit Margin (St.)', 'Sales Growth (St.)']\n",
    "new_df.info()"
   ]
  },
  {
   "cell_type": "markdown",
   "id": "63c5c1ee",
   "metadata": {
    "papermill": {
     "duration": 0.059187,
     "end_time": "2022-04-19T12:08:53.449454",
     "exception": false,
     "start_time": "2022-04-19T12:08:53.390267",
     "status": "completed"
    },
    "tags": []
   },
   "source": [
    "# **2.6.1 3D Scatter Plot**"
   ]
  },
  {
   "cell_type": "code",
   "execution_count": 21,
   "id": "a750096f",
   "metadata": {
    "execution": {
     "iopub.execute_input": "2022-04-19T12:08:53.574172Z",
     "iopub.status.busy": "2022-04-19T12:08:53.573616Z",
     "iopub.status.idle": "2022-04-19T12:08:54.103268Z",
     "shell.execute_reply": "2022-04-19T12:08:54.102369Z"
    },
    "papermill": {
     "duration": 0.596378,
     "end_time": "2022-04-19T12:08:54.105468",
     "exception": false,
     "start_time": "2022-04-19T12:08:53.509090",
     "status": "completed"
    },
    "tags": []
   },
   "outputs": [
    {
     "data": {
      "image/png": "[encoded data removed]",
      "text/plain": [
       "<Figure size 576x576 with 1 Axes>"
      ]
     },
     "metadata": {
      "needs_background": "light"
     },
     "output_type": "display_data"
    }
   ],
   "source": [
    "from mpl_toolkits.mplot3d import Axes3D\n",
    "\n",
    "fig = plt.figure()\n",
    "ax = fig.add_subplot(111, projection = '3d')\n",
    "\n",
    "\n",
    "x = new_df['DER (St.)']\n",
    "y = new_df['Operating Profit Margin (St.)']\n",
    "z = new_df['Sales Growth (St.)']\n",
    "\n",
    "ax.set_xlabel(\"DER (St.)\")\n",
    "ax.set_ylabel(\"Operating Profit Margin (St.)\")\n",
    "ax.set_zlabel(\"Sales Growth (St.)\")\n",
    "\n",
    "cmap = ListedColormap(sns.color_palette(\"RdYlGn\", 256).as_hex())\n",
    "\n",
    "sc = ax.scatter(x, y, z, s=40, c=new_df['Category'], marker='o', cmap=cmap, alpha=1)\n",
    "plt.legend(*sc.legend_elements(), bbox_to_anchor=(1.05, 1), loc=2)\n",
    "\n",
    "plt.show()"
   ]
  },
  {
   "cell_type": "markdown",
   "id": "41b70cc6",
   "metadata": {
    "papermill": {
     "duration": 0.061733,
     "end_time": "2022-04-19T12:08:54.228778",
     "exception": false,
     "start_time": "2022-04-19T12:08:54.167045",
     "status": "completed"
    },
    "tags": []
   },
   "source": [
    "# **2.6.2 X vs Z View**"
   ]
  },
  {
   "cell_type": "code",
   "execution_count": 22,
   "id": "9d708602",
   "metadata": {
    "execution": {
     "iopub.execute_input": "2022-04-19T12:08:54.352865Z",
     "iopub.status.busy": "2022-04-19T12:08:54.352307Z",
     "iopub.status.idle": "2022-04-19T12:08:54.656616Z",
     "shell.execute_reply": "2022-04-19T12:08:54.655802Z"
    },
    "papermill": {
     "duration": 0.368954,
     "end_time": "2022-04-19T12:08:54.658859",
     "exception": false,
     "start_time": "2022-04-19T12:08:54.289905",
     "status": "completed"
    },
    "tags": []
   },
   "outputs": [
    {
     "data": {
      "image/png": "[encoded data removed]",
      "text/plain": [
       "<Figure size 576x576 with 1 Axes>"
      ]
     },
     "metadata": {
      "needs_background": "light"
     },
     "output_type": "display_data"
    }
   ],
   "source": [
    "# color palette as dictionary\n",
    "palette = {0:\"tab:red\",\n",
    "           1:\"tab:orange\", \n",
    "           2:\"lime\",\n",
    "           3:\"yellow\",\n",
    "           4:\"darkgreen\"}\n",
    "\n",
    "sns.scatterplot(x='DER (St.)', y='Sales Growth (St.)', \n",
    "                hue='Category', data=new_df, s=80,\n",
    "                palette=palette)\n",
    "plt.title(\"DER vs Sales Growth (Standardisasi)\", fontsize=18, y=1.05)\n",
    "plt.show()"
   ]
  },
  {
   "cell_type": "markdown",
   "id": "de807034",
   "metadata": {
    "papermill": {
     "duration": 0.063065,
     "end_time": "2022-04-19T12:08:54.784538",
     "exception": false,
     "start_time": "2022-04-19T12:08:54.721473",
     "status": "completed"
    },
    "tags": []
   },
   "source": [
    "# **2.6.3 Y vs Z View**"
   ]
  },
  {
   "cell_type": "code",
   "execution_count": 23,
   "id": "318142a1",
   "metadata": {
    "execution": {
     "iopub.execute_input": "2022-04-19T12:08:54.912315Z",
     "iopub.status.busy": "2022-04-19T12:08:54.912008Z",
     "iopub.status.idle": "2022-04-19T12:08:55.222183Z",
     "shell.execute_reply": "2022-04-19T12:08:55.221560Z"
    },
    "papermill": {
     "duration": 0.376432,
     "end_time": "2022-04-19T12:08:55.224331",
     "exception": false,
     "start_time": "2022-04-19T12:08:54.847899",
     "status": "completed"
    },
    "tags": []
   },
   "outputs": [
    {
     "data": {
      "image/png": "[encoded data removed]",
      "text/plain": [
       "<Figure size 576x576 with 1 Axes>"
      ]
     },
     "metadata": {
      "needs_background": "light"
     },
     "output_type": "display_data"
    }
   ],
   "source": [
    "sns.scatterplot(x='Operating Profit Margin (St.)', y='Sales Growth (St.)', \n",
    "                hue='Category', data=new_df, s=80,\n",
    "                palette=palette)\n",
    "plt.title(\"Operating Profit Margin vs Sales Growth (Standardisasi)\", fontsize=18, y=1.05)\n",
    "plt.show()"
   ]
  },
  {
   "cell_type": "markdown",
   "id": "a8389cb5",
   "metadata": {
    "papermill": {
     "duration": 0.063401,
     "end_time": "2022-04-19T12:08:55.352500",
     "exception": false,
     "start_time": "2022-04-19T12:08:55.289099",
     "status": "completed"
    },
    "tags": []
   },
   "source": [
    "# **2.6.4 X vs Y View**"
   ]
  },
  {
   "cell_type": "code",
   "execution_count": 24,
   "id": "3c3d85f1",
   "metadata": {
    "execution": {
     "iopub.execute_input": "2022-04-19T12:08:55.481749Z",
     "iopub.status.busy": "2022-04-19T12:08:55.481442Z",
     "iopub.status.idle": "2022-04-19T12:08:55.794768Z",
     "shell.execute_reply": "2022-04-19T12:08:55.794157Z"
    },
    "papermill": {
     "duration": 0.380426,
     "end_time": "2022-04-19T12:08:55.796630",
     "exception": false,
     "start_time": "2022-04-19T12:08:55.416204",
     "status": "completed"
    },
    "tags": []
   },
   "outputs": [
    {
     "data": {
      "image/png": "[encoded data removed]",
      "text/plain": [
       "<Figure size 576x576 with 1 Axes>"
      ]
     },
     "metadata": {
      "needs_background": "light"
     },
     "output_type": "display_data"
    }
   ],
   "source": [
    "sns.scatterplot(x='DER (St.)', y='Operating Profit Margin (St.)', \n",
    "                hue='Category', data=new_df, s=80,\n",
    "                palette=palette)\n",
    "plt.title(\"DER vs Operating Profit Margin (Standardisasi)\", fontsize=18, y=1.05)\n",
    "plt.show()"
   ]
  },
  {
   "cell_type": "markdown",
   "id": "137786a6",
   "metadata": {
    "papermill": {
     "duration": 0.064562,
     "end_time": "2022-04-19T12:08:55.926272",
     "exception": false,
     "start_time": "2022-04-19T12:08:55.861710",
     "status": "completed"
    },
    "tags": []
   },
   "source": [
    "# **3. Export Result**"
   ]
  },
  {
   "cell_type": "code",
   "execution_count": 25,
   "id": "6f5b7c43",
   "metadata": {
    "execution": {
     "iopub.execute_input": "2022-04-19T12:08:56.057885Z",
     "iopub.status.busy": "2022-04-19T12:08:56.057352Z",
     "iopub.status.idle": "2022-04-19T12:08:56.064910Z",
     "shell.execute_reply": "2022-04-19T12:08:56.064038Z"
    },
    "papermill": {
     "duration": 0.075964,
     "end_time": "2022-04-19T12:08:56.067238",
     "exception": false,
     "start_time": "2022-04-19T12:08:55.991274",
     "status": "completed"
    },
    "tags": []
   },
   "outputs": [],
   "source": [
    "index_names = df0[ df0['Emitten'] == 'ARTO' ].index\n",
    "df0.drop(index_names, inplace = True)\n",
    "df0.reset_index(drop=True, inplace=True)\n",
    "df0.drop([\"Category\",\n",
    "         ], axis=1, inplace=True)"
   ]
  },
  {
   "cell_type": "code",
   "execution_count": 26,
   "id": "769182e4",
   "metadata": {
    "execution": {
     "iopub.execute_input": "2022-04-19T12:08:56.199959Z",
     "iopub.status.busy": "2022-04-19T12:08:56.199379Z",
     "iopub.status.idle": "2022-04-19T12:08:56.226872Z",
     "shell.execute_reply": "2022-04-19T12:08:56.225999Z"
    },
    "papermill": {
     "duration": 0.096676,
     "end_time": "2022-04-19T12:08:56.228984",
     "exception": false,
     "start_time": "2022-04-19T12:08:56.132308",
     "status": "completed"
    },
    "tags": []
   },
   "outputs": [
    {
     "data": {
      "text/html": [
       "<div>\n",
       "<style scoped>\n",
       "    .dataframe tbody tr th:only-of-type {\n",
       "        vertical-align: middle;\n",
       "    }\n",
       "\n",
       "    .dataframe tbody tr th {\n",
       "        vertical-align: top;\n",
       "    }\n",
       "\n",
       "    .dataframe thead th {\n",
       "        text-align: right;\n",
       "    }\n",
       "</style>\n",
       "<table border=\"1\" class=\"dataframe\">\n",
       "  <thead>\n",
       "    <tr style=\"text-align: right;\">\n",
       "      <th></th>\n",
       "      <th>Industry</th>\n",
       "      <th>Company</th>\n",
       "      <th>Category</th>\n",
       "      <th>DER (St.)</th>\n",
       "      <th>Operating Profit Margin (St.)</th>\n",
       "      <th>Sales Growth (St.)</th>\n",
       "      <th>Emitten</th>\n",
       "      <th>DER</th>\n",
       "      <th>Operating Profit Margin</th>\n",
       "      <th>Return On Asset</th>\n",
       "      <th>Sales Growth</th>\n",
       "      <th>;;;;</th>\n",
       "    </tr>\n",
       "  </thead>\n",
       "  <tbody>\n",
       "    <tr>\n",
       "      <th>0</th>\n",
       "      <td>Textiles</td>\n",
       "      <td>Argo Pantes Tbk.</td>\n",
       "      <td>2.0</td>\n",
       "      <td>-0.049703</td>\n",
       "      <td>-0.853134</td>\n",
       "      <td>-0.533867</td>\n",
       "      <td>ARGO</td>\n",
       "      <td>-1.82</td>\n",
       "      <td>-59.18</td>\n",
       "      <td>-0.07</td>\n",
       "      <td>48.70</td>\n",
       "      <td>NaN</td>\n",
       "    </tr>\n",
       "    <tr>\n",
       "      <th>1</th>\n",
       "      <td>Textiles</td>\n",
       "      <td>Sepatu Bata Tbk.</td>\n",
       "      <td>2.0</td>\n",
       "      <td>0.132305</td>\n",
       "      <td>-1.087866</td>\n",
       "      <td>-0.246550</td>\n",
       "      <td>BATA</td>\n",
       "      <td>0.63</td>\n",
       "      <td>-78.25</td>\n",
       "      <td>-0.18</td>\n",
       "      <td>306.41</td>\n",
       "      <td>NaN</td>\n",
       "    </tr>\n",
       "    <tr>\n",
       "      <th>2</th>\n",
       "      <td>Textiles</td>\n",
       "      <td>PT Trisula Textile Industries Tbk.</td>\n",
       "      <td>2.0</td>\n",
       "      <td>0.163506</td>\n",
       "      <td>-0.065976</td>\n",
       "      <td>-0.260776</td>\n",
       "      <td>BELL</td>\n",
       "      <td>1.05</td>\n",
       "      <td>4.77</td>\n",
       "      <td>0.01</td>\n",
       "      <td>293.65</td>\n",
       "      <td>NaN</td>\n",
       "    </tr>\n",
       "    <tr>\n",
       "      <th>3</th>\n",
       "      <td>Textiles</td>\n",
       "      <td>Primarindo Asia Infrastructure Tbk.</td>\n",
       "      <td>0.0</td>\n",
       "      <td>2.555606</td>\n",
       "      <td>-0.402872</td>\n",
       "      <td>-0.557146</td>\n",
       "      <td>BIMA</td>\n",
       "      <td>33.25</td>\n",
       "      <td>-22.60</td>\n",
       "      <td>-0.12</td>\n",
       "      <td>27.82</td>\n",
       "      <td>NaN</td>\n",
       "    </tr>\n",
       "    <tr>\n",
       "      <th>4</th>\n",
       "      <td>Textiles</td>\n",
       "      <td>Centex Tbk.</td>\n",
       "      <td>2.0</td>\n",
       "      <td>-0.266626</td>\n",
       "      <td>-0.564120</td>\n",
       "      <td>-0.364338</td>\n",
       "      <td>CNTX</td>\n",
       "      <td>-4.74</td>\n",
       "      <td>-35.70</td>\n",
       "      <td>-0.13</td>\n",
       "      <td>200.76</td>\n",
       "      <td>NaN</td>\n",
       "    </tr>\n",
       "  </tbody>\n",
       "</table>\n",
       "</div>"
      ],
      "text/plain": [
       "   Industry                               Company  Category  DER (St.)  \\\n",
       "0  Textiles                      Argo Pantes Tbk.       2.0  -0.049703   \n",
       "1  Textiles                      Sepatu Bata Tbk.       2.0   0.132305   \n",
       "2  Textiles    PT Trisula Textile Industries Tbk.       2.0   0.163506   \n",
       "3  Textiles   Primarindo Asia Infrastructure Tbk.       0.0   2.555606   \n",
       "4  Textiles                           Centex Tbk.       2.0  -0.266626   \n",
       "\n",
       "   Operating Profit Margin (St.)  Sales Growth (St.) Emitten    DER  \\\n",
       "0                      -0.853134           -0.533867    ARGO  -1.82   \n",
       "1                      -1.087866           -0.246550    BATA   0.63   \n",
       "2                      -0.065976           -0.260776    BELL   1.05   \n",
       "3                      -0.402872           -0.557146    BIMA  33.25   \n",
       "4                      -0.564120           -0.364338    CNTX  -4.74   \n",
       "\n",
       "   Operating Profit Margin  Return On Asset  Sales Growth  ;;;;  \n",
       "0                   -59.18            -0.07         48.70   NaN  \n",
       "1                   -78.25            -0.18        306.41   NaN  \n",
       "2                     4.77             0.01        293.65   NaN  \n",
       "3                   -22.60            -0.12         27.82   NaN  \n",
       "4                   -35.70            -0.13        200.76   NaN  "
      ]
     },
     "execution_count": 26,
     "metadata": {},
     "output_type": "execute_result"
    }
   ],
   "source": [
    "dftemp = pd.read_csv('../input/dataset/the result12.csv')\n",
    "df = pd.concat([dftemp, new_df, df0], axis=1)\n",
    "df.head(5)"
   ]
  },
  {
   "cell_type": "code",
   "execution_count": 27,
   "id": "24761c38",
   "metadata": {
    "execution": {
     "iopub.execute_input": "2022-04-19T12:08:56.362275Z",
     "iopub.status.busy": "2022-04-19T12:08:56.361750Z",
     "iopub.status.idle": "2022-04-19T12:08:56.368889Z",
     "shell.execute_reply": "2022-04-19T12:08:56.368283Z"
    },
    "papermill": {
     "duration": 0.075655,
     "end_time": "2022-04-19T12:08:56.370899",
     "exception": false,
     "start_time": "2022-04-19T12:08:56.295244",
     "status": "completed"
    },
    "tags": []
   },
   "outputs": [],
   "source": [
    "df.to_csv('the result12.csv', index = False)"
   ]
  },
  {
   "cell_type": "markdown",
   "id": "f303297a",
   "metadata": {
    "papermill": {
     "duration": 0.065383,
     "end_time": "2022-04-19T12:08:56.501876",
     "exception": false,
     "start_time": "2022-04-19T12:08:56.436493",
     "status": "completed"
    },
    "tags": []
   },
   "source": [
    "# **4. Get Centroid**"
   ]
  },
  {
   "cell_type": "code",
   "execution_count": 28,
   "id": "1df0935c",
   "metadata": {
    "execution": {
     "iopub.execute_input": "2022-04-19T12:08:56.634162Z",
     "iopub.status.busy": "2022-04-19T12:08:56.633644Z",
     "iopub.status.idle": "2022-04-19T12:08:56.639171Z",
     "shell.execute_reply": "2022-04-19T12:08:56.638650Z"
    },
    "papermill": {
     "duration": 0.07384,
     "end_time": "2022-04-19T12:08:56.640917",
     "exception": false,
     "start_time": "2022-04-19T12:08:56.567077",
     "status": "completed"
    },
    "tags": []
   },
   "outputs": [
    {
     "data": {
      "text/plain": [
       "array([[ 0.14770739, -0.2521613 , -0.28246551],\n",
       "       [ 0.18653568,  2.94873386,  0.22289558],\n",
       "       [-2.61452414, -1.01025769, -0.51818093],\n",
       "       [ 2.55560603, -0.40287218, -0.55714623],\n",
       "       [ 0.13564784,  1.62853662,  2.80379759]])"
      ]
     },
     "execution_count": 28,
     "metadata": {},
     "output_type": "execute_result"
    }
   ],
   "source": [
    "kmeans.cluster_centers_"
   ]
  },
  {
   "cell_type": "code",
   "execution_count": 29,
   "id": "e238c2fa",
   "metadata": {
    "execution": {
     "iopub.execute_input": "2022-04-19T12:08:56.775892Z",
     "iopub.status.busy": "2022-04-19T12:08:56.775324Z",
     "iopub.status.idle": "2022-04-19T12:08:57.008756Z",
     "shell.execute_reply": "2022-04-19T12:08:57.008084Z"
    },
    "papermill": {
     "duration": 0.304581,
     "end_time": "2022-04-19T12:08:57.011332",
     "exception": false,
     "start_time": "2022-04-19T12:08:56.706751",
     "status": "completed"
    },
    "tags": []
   },
   "outputs": [
    {
     "data": {
      "image/png": "[encoded data removed]",
      "text/plain": [
       "<Figure size 576x576 with 1 Axes>"
      ]
     },
     "metadata": {
      "needs_background": "light"
     },
     "output_type": "display_data"
    }
   ],
   "source": [
    "from mpl_toolkits.mplot3d import Axes3D\n",
    "\n",
    "fig = plt.figure()\n",
    "ax = fig.add_subplot(111, projection = '3d')\n",
    "x = [0.07796577,3.3825386,-0.19978728,-0.22183117,-0.32525515]\n",
    "y = [1.27721216,-0.22442569,-1.39490532,0.15549501,-0.03911061]\n",
    "z = [-0.22773712,0.35006475,-0.89274149,4.44060221,0.14030381]\n",
    "\n",
    "ax.set_xlabel(\"DER (St.)\")\n",
    "ax.set_ylabel(\"Operating Profit Margin (St.)\")\n",
    "ax.set_zlabel(\"Sales Growth (St.)\")\n",
    "ax.scatter(x, y, z)\n",
    "plt.show()"
   ]
  },
  {
   "cell_type": "markdown",
   "id": "dd324776",
   "metadata": {
    "papermill": {
     "duration": 0.070311,
     "end_time": "2022-04-19T12:08:57.150333",
     "exception": false,
     "start_time": "2022-04-19T12:08:57.080022",
     "status": "completed"
    },
    "tags": []
   },
   "source": [
    "# **5. Cluster Description**"
   ]
  },
  {
   "cell_type": "code",
   "execution_count": 30,
   "id": "d1a8a3d7",
   "metadata": {
    "execution": {
     "iopub.execute_input": "2022-04-19T12:08:57.293581Z",
     "iopub.status.busy": "2022-04-19T12:08:57.292567Z",
     "iopub.status.idle": "2022-04-19T12:08:57.330821Z",
     "shell.execute_reply": "2022-04-19T12:08:57.330225Z"
    },
    "papermill": {
     "duration": 0.109885,
     "end_time": "2022-04-19T12:08:57.332699",
     "exception": false,
     "start_time": "2022-04-19T12:08:57.222814",
     "status": "completed"
    },
    "tags": []
   },
   "outputs": [
    {
     "data": {
      "text/html": [
       "<div>\n",
       "<style scoped>\n",
       "    .dataframe tbody tr th:only-of-type {\n",
       "        vertical-align: middle;\n",
       "    }\n",
       "\n",
       "    .dataframe tbody tr th {\n",
       "        vertical-align: top;\n",
       "    }\n",
       "\n",
       "    .dataframe thead th {\n",
       "        text-align: right;\n",
       "    }\n",
       "</style>\n",
       "<table border=\"1\" class=\"dataframe\">\n",
       "  <thead>\n",
       "    <tr style=\"text-align: right;\">\n",
       "      <th></th>\n",
       "      <th>Category</th>\n",
       "      <th>DER (St.)</th>\n",
       "      <th>Operating Profit Margin (St.)</th>\n",
       "      <th>Sales Growth (St.)</th>\n",
       "      <th>DER</th>\n",
       "      <th>Operating Profit Margin</th>\n",
       "      <th>Return On Asset</th>\n",
       "      <th>Sales Growth</th>\n",
       "      <th>;;;;</th>\n",
       "    </tr>\n",
       "  </thead>\n",
       "  <tbody>\n",
       "    <tr>\n",
       "      <th>count</th>\n",
       "      <td>1.0</td>\n",
       "      <td>1.000000</td>\n",
       "      <td>1.000000</td>\n",
       "      <td>1.000000</td>\n",
       "      <td>1.00</td>\n",
       "      <td>1.00</td>\n",
       "      <td>1.00</td>\n",
       "      <td>1.00</td>\n",
       "      <td>0.0</td>\n",
       "    </tr>\n",
       "    <tr>\n",
       "      <th>mean</th>\n",
       "      <td>4.0</td>\n",
       "      <td>0.186536</td>\n",
       "      <td>2.948734</td>\n",
       "      <td>0.222896</td>\n",
       "      <td>-37.46</td>\n",
       "      <td>-112.34</td>\n",
       "      <td>-0.06</td>\n",
       "      <td>116.59</td>\n",
       "      <td>NaN</td>\n",
       "    </tr>\n",
       "    <tr>\n",
       "      <th>std</th>\n",
       "      <td>NaN</td>\n",
       "      <td>NaN</td>\n",
       "      <td>NaN</td>\n",
       "      <td>NaN</td>\n",
       "      <td>NaN</td>\n",
       "      <td>NaN</td>\n",
       "      <td>NaN</td>\n",
       "      <td>NaN</td>\n",
       "      <td>NaN</td>\n",
       "    </tr>\n",
       "    <tr>\n",
       "      <th>min</th>\n",
       "      <td>4.0</td>\n",
       "      <td>0.186536</td>\n",
       "      <td>2.948734</td>\n",
       "      <td>0.222896</td>\n",
       "      <td>-37.46</td>\n",
       "      <td>-112.34</td>\n",
       "      <td>-0.06</td>\n",
       "      <td>116.59</td>\n",
       "      <td>NaN</td>\n",
       "    </tr>\n",
       "    <tr>\n",
       "      <th>25%</th>\n",
       "      <td>4.0</td>\n",
       "      <td>0.186536</td>\n",
       "      <td>2.948734</td>\n",
       "      <td>0.222896</td>\n",
       "      <td>-37.46</td>\n",
       "      <td>-112.34</td>\n",
       "      <td>-0.06</td>\n",
       "      <td>116.59</td>\n",
       "      <td>NaN</td>\n",
       "    </tr>\n",
       "    <tr>\n",
       "      <th>50%</th>\n",
       "      <td>4.0</td>\n",
       "      <td>0.186536</td>\n",
       "      <td>2.948734</td>\n",
       "      <td>0.222896</td>\n",
       "      <td>-37.46</td>\n",
       "      <td>-112.34</td>\n",
       "      <td>-0.06</td>\n",
       "      <td>116.59</td>\n",
       "      <td>NaN</td>\n",
       "    </tr>\n",
       "    <tr>\n",
       "      <th>75%</th>\n",
       "      <td>4.0</td>\n",
       "      <td>0.186536</td>\n",
       "      <td>2.948734</td>\n",
       "      <td>0.222896</td>\n",
       "      <td>-37.46</td>\n",
       "      <td>-112.34</td>\n",
       "      <td>-0.06</td>\n",
       "      <td>116.59</td>\n",
       "      <td>NaN</td>\n",
       "    </tr>\n",
       "    <tr>\n",
       "      <th>max</th>\n",
       "      <td>4.0</td>\n",
       "      <td>0.186536</td>\n",
       "      <td>2.948734</td>\n",
       "      <td>0.222896</td>\n",
       "      <td>-37.46</td>\n",
       "      <td>-112.34</td>\n",
       "      <td>-0.06</td>\n",
       "      <td>116.59</td>\n",
       "      <td>NaN</td>\n",
       "    </tr>\n",
       "  </tbody>\n",
       "</table>\n",
       "</div>"
      ],
      "text/plain": [
       "       Category  DER (St.)  Operating Profit Margin (St.)  Sales Growth (St.)  \\\n",
       "count       1.0   1.000000                       1.000000            1.000000   \n",
       "mean        4.0   0.186536                       2.948734            0.222896   \n",
       "std         NaN        NaN                            NaN                 NaN   \n",
       "min         4.0   0.186536                       2.948734            0.222896   \n",
       "25%         4.0   0.186536                       2.948734            0.222896   \n",
       "50%         4.0   0.186536                       2.948734            0.222896   \n",
       "75%         4.0   0.186536                       2.948734            0.222896   \n",
       "max         4.0   0.186536                       2.948734            0.222896   \n",
       "\n",
       "         DER  Operating Profit Margin  Return On Asset  Sales Growth  ;;;;  \n",
       "count   1.00                     1.00             1.00          1.00   0.0  \n",
       "mean  -37.46                  -112.34            -0.06        116.59   NaN  \n",
       "std      NaN                      NaN              NaN           NaN   NaN  \n",
       "min   -37.46                  -112.34            -0.06        116.59   NaN  \n",
       "25%   -37.46                  -112.34            -0.06        116.59   NaN  \n",
       "50%   -37.46                  -112.34            -0.06        116.59   NaN  \n",
       "75%   -37.46                  -112.34            -0.06        116.59   NaN  \n",
       "max   -37.46                  -112.34            -0.06        116.59   NaN  "
      ]
     },
     "execution_count": 30,
     "metadata": {},
     "output_type": "execute_result"
    }
   ],
   "source": [
    "#Highly Positively Impacted\n",
    "df[df['Category'] == 4].describe()"
   ]
  },
  {
   "cell_type": "code",
   "execution_count": 31,
   "id": "20da3aa6",
   "metadata": {
    "execution": {
     "iopub.execute_input": "2022-04-19T12:08:57.472369Z",
     "iopub.status.busy": "2022-04-19T12:08:57.471803Z",
     "iopub.status.idle": "2022-04-19T12:08:57.506795Z",
     "shell.execute_reply": "2022-04-19T12:08:57.506181Z"
    },
    "papermill": {
     "duration": 0.107303,
     "end_time": "2022-04-19T12:08:57.508688",
     "exception": false,
     "start_time": "2022-04-19T12:08:57.401385",
     "status": "completed"
    },
    "tags": []
   },
   "outputs": [
    {
     "data": {
      "text/html": [
       "<div>\n",
       "<style scoped>\n",
       "    .dataframe tbody tr th:only-of-type {\n",
       "        vertical-align: middle;\n",
       "    }\n",
       "\n",
       "    .dataframe tbody tr th {\n",
       "        vertical-align: top;\n",
       "    }\n",
       "\n",
       "    .dataframe thead th {\n",
       "        text-align: right;\n",
       "    }\n",
       "</style>\n",
       "<table border=\"1\" class=\"dataframe\">\n",
       "  <thead>\n",
       "    <tr style=\"text-align: right;\">\n",
       "      <th></th>\n",
       "      <th>Category</th>\n",
       "      <th>DER (St.)</th>\n",
       "      <th>Operating Profit Margin (St.)</th>\n",
       "      <th>Sales Growth (St.)</th>\n",
       "      <th>DER</th>\n",
       "      <th>Operating Profit Margin</th>\n",
       "      <th>Return On Asset</th>\n",
       "      <th>Sales Growth</th>\n",
       "      <th>;;;;</th>\n",
       "    </tr>\n",
       "  </thead>\n",
       "  <tbody>\n",
       "    <tr>\n",
       "      <th>count</th>\n",
       "      <td>2.0</td>\n",
       "      <td>2.000000</td>\n",
       "      <td>2.000000</td>\n",
       "      <td>2.000000</td>\n",
       "      <td>2.000000</td>\n",
       "      <td>2.000000</td>\n",
       "      <td>2.000000</td>\n",
       "      <td>2.000000</td>\n",
       "      <td>0.0</td>\n",
       "    </tr>\n",
       "    <tr>\n",
       "      <th>mean</th>\n",
       "      <td>3.0</td>\n",
       "      <td>0.135648</td>\n",
       "      <td>1.628537</td>\n",
       "      <td>2.803798</td>\n",
       "      <td>1.005000</td>\n",
       "      <td>110.240000</td>\n",
       "      <td>0.095000</td>\n",
       "      <td>2031.990000</td>\n",
       "      <td>NaN</td>\n",
       "    </tr>\n",
       "    <tr>\n",
       "      <th>std</th>\n",
       "      <td>0.0</td>\n",
       "      <td>0.061460</td>\n",
       "      <td>0.185129</td>\n",
       "      <td>1.360800</td>\n",
       "      <td>0.360624</td>\n",
       "      <td>60.570767</td>\n",
       "      <td>0.049497</td>\n",
       "      <td>2649.543251</td>\n",
       "      <td>NaN</td>\n",
       "    </tr>\n",
       "    <tr>\n",
       "      <th>min</th>\n",
       "      <td>3.0</td>\n",
       "      <td>0.092189</td>\n",
       "      <td>1.497631</td>\n",
       "      <td>1.841567</td>\n",
       "      <td>0.750000</td>\n",
       "      <td>67.410000</td>\n",
       "      <td>0.060000</td>\n",
       "      <td>158.480000</td>\n",
       "      <td>NaN</td>\n",
       "    </tr>\n",
       "    <tr>\n",
       "      <th>25%</th>\n",
       "      <td>3.0</td>\n",
       "      <td>0.113918</td>\n",
       "      <td>1.563084</td>\n",
       "      <td>2.322682</td>\n",
       "      <td>0.877500</td>\n",
       "      <td>88.825000</td>\n",
       "      <td>0.077500</td>\n",
       "      <td>1095.235000</td>\n",
       "      <td>NaN</td>\n",
       "    </tr>\n",
       "    <tr>\n",
       "      <th>50%</th>\n",
       "      <td>3.0</td>\n",
       "      <td>0.135648</td>\n",
       "      <td>1.628537</td>\n",
       "      <td>2.803798</td>\n",
       "      <td>1.005000</td>\n",
       "      <td>110.240000</td>\n",
       "      <td>0.095000</td>\n",
       "      <td>2031.990000</td>\n",
       "      <td>NaN</td>\n",
       "    </tr>\n",
       "    <tr>\n",
       "      <th>75%</th>\n",
       "      <td>3.0</td>\n",
       "      <td>0.157377</td>\n",
       "      <td>1.693990</td>\n",
       "      <td>3.284913</td>\n",
       "      <td>1.132500</td>\n",
       "      <td>131.655000</td>\n",
       "      <td>0.112500</td>\n",
       "      <td>2968.745000</td>\n",
       "      <td>NaN</td>\n",
       "    </tr>\n",
       "    <tr>\n",
       "      <th>max</th>\n",
       "      <td>3.0</td>\n",
       "      <td>0.179107</td>\n",
       "      <td>1.759442</td>\n",
       "      <td>3.766029</td>\n",
       "      <td>1.260000</td>\n",
       "      <td>153.070000</td>\n",
       "      <td>0.130000</td>\n",
       "      <td>3905.500000</td>\n",
       "      <td>NaN</td>\n",
       "    </tr>\n",
       "  </tbody>\n",
       "</table>\n",
       "</div>"
      ],
      "text/plain": [
       "       Category  DER (St.)  Operating Profit Margin (St.)  Sales Growth (St.)  \\\n",
       "count       2.0   2.000000                       2.000000            2.000000   \n",
       "mean        3.0   0.135648                       1.628537            2.803798   \n",
       "std         0.0   0.061460                       0.185129            1.360800   \n",
       "min         3.0   0.092189                       1.497631            1.841567   \n",
       "25%         3.0   0.113918                       1.563084            2.322682   \n",
       "50%         3.0   0.135648                       1.628537            2.803798   \n",
       "75%         3.0   0.157377                       1.693990            3.284913   \n",
       "max         3.0   0.179107                       1.759442            3.766029   \n",
       "\n",
       "            DER  Operating Profit Margin  Return On Asset  Sales Growth  ;;;;  \n",
       "count  2.000000                 2.000000         2.000000      2.000000   0.0  \n",
       "mean   1.005000               110.240000         0.095000   2031.990000   NaN  \n",
       "std    0.360624                60.570767         0.049497   2649.543251   NaN  \n",
       "min    0.750000                67.410000         0.060000    158.480000   NaN  \n",
       "25%    0.877500                88.825000         0.077500   1095.235000   NaN  \n",
       "50%    1.005000               110.240000         0.095000   2031.990000   NaN  \n",
       "75%    1.132500               131.655000         0.112500   2968.745000   NaN  \n",
       "max    1.260000               153.070000         0.130000   3905.500000   NaN  "
      ]
     },
     "execution_count": 31,
     "metadata": {},
     "output_type": "execute_result"
    }
   ],
   "source": [
    "#Highly Positively Impacted\n",
    "df[df['Category'] == 3].describe()"
   ]
  },
  {
   "cell_type": "code",
   "execution_count": 32,
   "id": "c60fc368",
   "metadata": {
    "execution": {
     "iopub.execute_input": "2022-04-19T12:08:57.650630Z",
     "iopub.status.busy": "2022-04-19T12:08:57.650080Z",
     "iopub.status.idle": "2022-04-19T12:08:57.684826Z",
     "shell.execute_reply": "2022-04-19T12:08:57.684207Z"
    },
    "papermill": {
     "duration": 0.107842,
     "end_time": "2022-04-19T12:08:57.686647",
     "exception": false,
     "start_time": "2022-04-19T12:08:57.578805",
     "status": "completed"
    },
    "tags": []
   },
   "outputs": [
    {
     "data": {
      "text/html": [
       "<div>\n",
       "<style scoped>\n",
       "    .dataframe tbody tr th:only-of-type {\n",
       "        vertical-align: middle;\n",
       "    }\n",
       "\n",
       "    .dataframe tbody tr th {\n",
       "        vertical-align: top;\n",
       "    }\n",
       "\n",
       "    .dataframe thead th {\n",
       "        text-align: right;\n",
       "    }\n",
       "</style>\n",
       "<table border=\"1\" class=\"dataframe\">\n",
       "  <thead>\n",
       "    <tr style=\"text-align: right;\">\n",
       "      <th></th>\n",
       "      <th>Category</th>\n",
       "      <th>DER (St.)</th>\n",
       "      <th>Operating Profit Margin (St.)</th>\n",
       "      <th>Sales Growth (St.)</th>\n",
       "      <th>DER</th>\n",
       "      <th>Operating Profit Margin</th>\n",
       "      <th>Return On Asset</th>\n",
       "      <th>Sales Growth</th>\n",
       "      <th>;;;;</th>\n",
       "    </tr>\n",
       "  </thead>\n",
       "  <tbody>\n",
       "    <tr>\n",
       "      <th>count</th>\n",
       "      <td>15.0</td>\n",
       "      <td>15.000000</td>\n",
       "      <td>15.000000</td>\n",
       "      <td>15.000000</td>\n",
       "      <td>15.000000</td>\n",
       "      <td>15.000000</td>\n",
       "      <td>15.000000</td>\n",
       "      <td>15.000000</td>\n",
       "      <td>0.0</td>\n",
       "    </tr>\n",
       "    <tr>\n",
       "      <th>mean</th>\n",
       "      <td>2.0</td>\n",
       "      <td>0.147707</td>\n",
       "      <td>-0.252161</td>\n",
       "      <td>-0.282466</td>\n",
       "      <td>0.803333</td>\n",
       "      <td>60.896667</td>\n",
       "      <td>-0.022000</td>\n",
       "      <td>429.024733</td>\n",
       "      <td>NaN</td>\n",
       "    </tr>\n",
       "    <tr>\n",
       "      <th>std</th>\n",
       "      <td>0.0</td>\n",
       "      <td>0.164978</td>\n",
       "      <td>0.486581</td>\n",
       "      <td>0.307588</td>\n",
       "      <td>2.220076</td>\n",
       "      <td>215.763746</td>\n",
       "      <td>0.075233</td>\n",
       "      <td>565.421050</td>\n",
       "      <td>NaN</td>\n",
       "    </tr>\n",
       "    <tr>\n",
       "      <th>min</th>\n",
       "      <td>2.0</td>\n",
       "      <td>-0.266626</td>\n",
       "      <td>-1.087866</td>\n",
       "      <td>-0.545706</td>\n",
       "      <td>-4.740000</td>\n",
       "      <td>-78.250000</td>\n",
       "      <td>-0.180000</td>\n",
       "      <td>38.081000</td>\n",
       "      <td>NaN</td>\n",
       "    </tr>\n",
       "    <tr>\n",
       "      <th>25%</th>\n",
       "      <td>2.0</td>\n",
       "      <td>0.122276</td>\n",
       "      <td>-0.654283</td>\n",
       "      <td>-0.490220</td>\n",
       "      <td>0.305000</td>\n",
       "      <td>-43.025000</td>\n",
       "      <td>-0.075000</td>\n",
       "      <td>97.195000</td>\n",
       "      <td>NaN</td>\n",
       "    </tr>\n",
       "    <tr>\n",
       "      <th>50%</th>\n",
       "      <td>2.0</td>\n",
       "      <td>0.141220</td>\n",
       "      <td>-0.121736</td>\n",
       "      <td>-0.386769</td>\n",
       "      <td>0.950000</td>\n",
       "      <td>4.770000</td>\n",
       "      <td>0.010000</td>\n",
       "      <td>200.760000</td>\n",
       "      <td>NaN</td>\n",
       "    </tr>\n",
       "    <tr>\n",
       "      <th>75%</th>\n",
       "      <td>2.0</td>\n",
       "      <td>0.252281</td>\n",
       "      <td>0.042097</td>\n",
       "      <td>-0.243679</td>\n",
       "      <td>2.245000</td>\n",
       "      <td>17.055000</td>\n",
       "      <td>0.030000</td>\n",
       "      <td>519.520000</td>\n",
       "      <td>NaN</td>\n",
       "    </tr>\n",
       "    <tr>\n",
       "      <th>max</th>\n",
       "      <td>2.0</td>\n",
       "      <td>0.410888</td>\n",
       "      <td>0.705057</td>\n",
       "      <td>0.509689</td>\n",
       "      <td>4.380000</td>\n",
       "      <td>780.630000</td>\n",
       "      <td>0.090000</td>\n",
       "      <td>2179.350000</td>\n",
       "      <td>NaN</td>\n",
       "    </tr>\n",
       "  </tbody>\n",
       "</table>\n",
       "</div>"
      ],
      "text/plain": [
       "       Category  DER (St.)  Operating Profit Margin (St.)  Sales Growth (St.)  \\\n",
       "count      15.0  15.000000                      15.000000           15.000000   \n",
       "mean        2.0   0.147707                      -0.252161           -0.282466   \n",
       "std         0.0   0.164978                       0.486581            0.307588   \n",
       "min         2.0  -0.266626                      -1.087866           -0.545706   \n",
       "25%         2.0   0.122276                      -0.654283           -0.490220   \n",
       "50%         2.0   0.141220                      -0.121736           -0.386769   \n",
       "75%         2.0   0.252281                       0.042097           -0.243679   \n",
       "max         2.0   0.410888                       0.705057            0.509689   \n",
       "\n",
       "             DER  Operating Profit Margin  Return On Asset  Sales Growth  ;;;;  \n",
       "count  15.000000                15.000000        15.000000     15.000000   0.0  \n",
       "mean    0.803333                60.896667        -0.022000    429.024733   NaN  \n",
       "std     2.220076               215.763746         0.075233    565.421050   NaN  \n",
       "min    -4.740000               -78.250000        -0.180000     38.081000   NaN  \n",
       "25%     0.305000               -43.025000        -0.075000     97.195000   NaN  \n",
       "50%     0.950000                 4.770000         0.010000    200.760000   NaN  \n",
       "75%     2.245000                17.055000         0.030000    519.520000   NaN  \n",
       "max     4.380000               780.630000         0.090000   2179.350000   NaN  "
      ]
     },
     "execution_count": 32,
     "metadata": {},
     "output_type": "execute_result"
    }
   ],
   "source": [
    "#Highly Positively Impacted\n",
    "df[df['Category'] == 2].describe()"
   ]
  },
  {
   "cell_type": "code",
   "execution_count": 33,
   "id": "9e83b63c",
   "metadata": {
    "execution": {
     "iopub.execute_input": "2022-04-19T12:08:57.832988Z",
     "iopub.status.busy": "2022-04-19T12:08:57.832542Z",
     "iopub.status.idle": "2022-04-19T12:08:57.867874Z",
     "shell.execute_reply": "2022-04-19T12:08:57.867207Z"
    },
    "papermill": {
     "duration": 0.110818,
     "end_time": "2022-04-19T12:08:57.869791",
     "exception": false,
     "start_time": "2022-04-19T12:08:57.758973",
     "status": "completed"
    },
    "tags": []
   },
   "outputs": [
    {
     "data": {
      "text/html": [
       "<div>\n",
       "<style scoped>\n",
       "    .dataframe tbody tr th:only-of-type {\n",
       "        vertical-align: middle;\n",
       "    }\n",
       "\n",
       "    .dataframe tbody tr th {\n",
       "        vertical-align: top;\n",
       "    }\n",
       "\n",
       "    .dataframe thead th {\n",
       "        text-align: right;\n",
       "    }\n",
       "</style>\n",
       "<table border=\"1\" class=\"dataframe\">\n",
       "  <thead>\n",
       "    <tr style=\"text-align: right;\">\n",
       "      <th></th>\n",
       "      <th>Category</th>\n",
       "      <th>DER (St.)</th>\n",
       "      <th>Operating Profit Margin (St.)</th>\n",
       "      <th>Sales Growth (St.)</th>\n",
       "      <th>DER</th>\n",
       "      <th>Operating Profit Margin</th>\n",
       "      <th>Return On Asset</th>\n",
       "      <th>Sales Growth</th>\n",
       "      <th>;;;;</th>\n",
       "    </tr>\n",
       "  </thead>\n",
       "  <tbody>\n",
       "    <tr>\n",
       "      <th>count</th>\n",
       "      <td>2.0</td>\n",
       "      <td>2.000000</td>\n",
       "      <td>2.000000</td>\n",
       "      <td>2.000000</td>\n",
       "      <td>2.000000</td>\n",
       "      <td>2.000000</td>\n",
       "      <td>2.000000</td>\n",
       "      <td>2.000000</td>\n",
       "      <td>0.0</td>\n",
       "    </tr>\n",
       "    <tr>\n",
       "      <th>mean</th>\n",
       "      <td>1.0</td>\n",
       "      <td>-2.614524</td>\n",
       "      <td>-1.010258</td>\n",
       "      <td>-0.518181</td>\n",
       "      <td>-16.770000</td>\n",
       "      <td>-2.935000</td>\n",
       "      <td>-0.030000</td>\n",
       "      <td>236.795000</td>\n",
       "      <td>NaN</td>\n",
       "    </tr>\n",
       "    <tr>\n",
       "      <th>std</th>\n",
       "      <td>0.0</td>\n",
       "      <td>0.117142</td>\n",
       "      <td>0.703176</td>\n",
       "      <td>0.084857</td>\n",
       "      <td>26.106382</td>\n",
       "      <td>40.467721</td>\n",
       "      <td>0.098995</td>\n",
       "      <td>322.221489</td>\n",
       "      <td>NaN</td>\n",
       "    </tr>\n",
       "    <tr>\n",
       "      <th>min</th>\n",
       "      <td>1.0</td>\n",
       "      <td>-2.697356</td>\n",
       "      <td>-1.507478</td>\n",
       "      <td>-0.578184</td>\n",
       "      <td>-35.230000</td>\n",
       "      <td>-31.550000</td>\n",
       "      <td>-0.100000</td>\n",
       "      <td>8.950000</td>\n",
       "      <td>NaN</td>\n",
       "    </tr>\n",
       "    <tr>\n",
       "      <th>25%</th>\n",
       "      <td>1.0</td>\n",
       "      <td>-2.655940</td>\n",
       "      <td>-1.258868</td>\n",
       "      <td>-0.548183</td>\n",
       "      <td>-26.000000</td>\n",
       "      <td>-17.242500</td>\n",
       "      <td>-0.065000</td>\n",
       "      <td>122.872500</td>\n",
       "      <td>NaN</td>\n",
       "    </tr>\n",
       "    <tr>\n",
       "      <th>50%</th>\n",
       "      <td>1.0</td>\n",
       "      <td>-2.614524</td>\n",
       "      <td>-1.010258</td>\n",
       "      <td>-0.518181</td>\n",
       "      <td>-16.770000</td>\n",
       "      <td>-2.935000</td>\n",
       "      <td>-0.030000</td>\n",
       "      <td>236.795000</td>\n",
       "      <td>NaN</td>\n",
       "    </tr>\n",
       "    <tr>\n",
       "      <th>75%</th>\n",
       "      <td>1.0</td>\n",
       "      <td>-2.573108</td>\n",
       "      <td>-0.761648</td>\n",
       "      <td>-0.488179</td>\n",
       "      <td>-7.540000</td>\n",
       "      <td>11.372500</td>\n",
       "      <td>0.005000</td>\n",
       "      <td>350.717500</td>\n",
       "      <td>NaN</td>\n",
       "    </tr>\n",
       "    <tr>\n",
       "      <th>max</th>\n",
       "      <td>1.0</td>\n",
       "      <td>-2.531692</td>\n",
       "      <td>-0.513037</td>\n",
       "      <td>-0.458178</td>\n",
       "      <td>1.690000</td>\n",
       "      <td>25.680000</td>\n",
       "      <td>0.040000</td>\n",
       "      <td>464.640000</td>\n",
       "      <td>NaN</td>\n",
       "    </tr>\n",
       "  </tbody>\n",
       "</table>\n",
       "</div>"
      ],
      "text/plain": [
       "       Category  DER (St.)  Operating Profit Margin (St.)  Sales Growth (St.)  \\\n",
       "count       2.0   2.000000                       2.000000            2.000000   \n",
       "mean        1.0  -2.614524                      -1.010258           -0.518181   \n",
       "std         0.0   0.117142                       0.703176            0.084857   \n",
       "min         1.0  -2.697356                      -1.507478           -0.578184   \n",
       "25%         1.0  -2.655940                      -1.258868           -0.548183   \n",
       "50%         1.0  -2.614524                      -1.010258           -0.518181   \n",
       "75%         1.0  -2.573108                      -0.761648           -0.488179   \n",
       "max         1.0  -2.531692                      -0.513037           -0.458178   \n",
       "\n",
       "             DER  Operating Profit Margin  Return On Asset  Sales Growth  ;;;;  \n",
       "count   2.000000                 2.000000         2.000000      2.000000   0.0  \n",
       "mean  -16.770000                -2.935000        -0.030000    236.795000   NaN  \n",
       "std    26.106382                40.467721         0.098995    322.221489   NaN  \n",
       "min   -35.230000               -31.550000        -0.100000      8.950000   NaN  \n",
       "25%   -26.000000               -17.242500        -0.065000    122.872500   NaN  \n",
       "50%   -16.770000                -2.935000        -0.030000    236.795000   NaN  \n",
       "75%    -7.540000                11.372500         0.005000    350.717500   NaN  \n",
       "max     1.690000                25.680000         0.040000    464.640000   NaN  "
      ]
     },
     "execution_count": 33,
     "metadata": {},
     "output_type": "execute_result"
    }
   ],
   "source": [
    "#Highly Positively Impacted\n",
    "df[df['Category'] == 1].describe()"
   ]
  },
  {
   "cell_type": "code",
   "execution_count": 34,
   "id": "d6d6dee4",
   "metadata": {
    "execution": {
     "iopub.execute_input": "2022-04-19T12:08:58.015941Z",
     "iopub.status.busy": "2022-04-19T12:08:58.015398Z",
     "iopub.status.idle": "2022-04-19T12:08:58.052771Z",
     "shell.execute_reply": "2022-04-19T12:08:58.051844Z"
    },
    "papermill": {
     "duration": 0.113331,
     "end_time": "2022-04-19T12:08:58.054807",
     "exception": false,
     "start_time": "2022-04-19T12:08:57.941476",
     "status": "completed"
    },
    "tags": []
   },
   "outputs": [
    {
     "data": {
      "text/html": [
       "<div>\n",
       "<style scoped>\n",
       "    .dataframe tbody tr th:only-of-type {\n",
       "        vertical-align: middle;\n",
       "    }\n",
       "\n",
       "    .dataframe tbody tr th {\n",
       "        vertical-align: top;\n",
       "    }\n",
       "\n",
       "    .dataframe thead th {\n",
       "        text-align: right;\n",
       "    }\n",
       "</style>\n",
       "<table border=\"1\" class=\"dataframe\">\n",
       "  <thead>\n",
       "    <tr style=\"text-align: right;\">\n",
       "      <th></th>\n",
       "      <th>Category</th>\n",
       "      <th>DER (St.)</th>\n",
       "      <th>Operating Profit Margin (St.)</th>\n",
       "      <th>Sales Growth (St.)</th>\n",
       "      <th>DER</th>\n",
       "      <th>Operating Profit Margin</th>\n",
       "      <th>Return On Asset</th>\n",
       "      <th>Sales Growth</th>\n",
       "      <th>;;;;</th>\n",
       "    </tr>\n",
       "  </thead>\n",
       "  <tbody>\n",
       "    <tr>\n",
       "      <th>count</th>\n",
       "      <td>1.0</td>\n",
       "      <td>1.000000</td>\n",
       "      <td>1.000000</td>\n",
       "      <td>1.000000</td>\n",
       "      <td>1.00</td>\n",
       "      <td>1.0</td>\n",
       "      <td>1.00</td>\n",
       "      <td>1.00</td>\n",
       "      <td>0.0</td>\n",
       "    </tr>\n",
       "    <tr>\n",
       "      <th>mean</th>\n",
       "      <td>0.0</td>\n",
       "      <td>2.555606</td>\n",
       "      <td>-0.402872</td>\n",
       "      <td>-0.557146</td>\n",
       "      <td>33.25</td>\n",
       "      <td>-22.6</td>\n",
       "      <td>-0.12</td>\n",
       "      <td>27.82</td>\n",
       "      <td>NaN</td>\n",
       "    </tr>\n",
       "    <tr>\n",
       "      <th>std</th>\n",
       "      <td>NaN</td>\n",
       "      <td>NaN</td>\n",
       "      <td>NaN</td>\n",
       "      <td>NaN</td>\n",
       "      <td>NaN</td>\n",
       "      <td>NaN</td>\n",
       "      <td>NaN</td>\n",
       "      <td>NaN</td>\n",
       "      <td>NaN</td>\n",
       "    </tr>\n",
       "    <tr>\n",
       "      <th>min</th>\n",
       "      <td>0.0</td>\n",
       "      <td>2.555606</td>\n",
       "      <td>-0.402872</td>\n",
       "      <td>-0.557146</td>\n",
       "      <td>33.25</td>\n",
       "      <td>-22.6</td>\n",
       "      <td>-0.12</td>\n",
       "      <td>27.82</td>\n",
       "      <td>NaN</td>\n",
       "    </tr>\n",
       "    <tr>\n",
       "      <th>25%</th>\n",
       "      <td>0.0</td>\n",
       "      <td>2.555606</td>\n",
       "      <td>-0.402872</td>\n",
       "      <td>-0.557146</td>\n",
       "      <td>33.25</td>\n",
       "      <td>-22.6</td>\n",
       "      <td>-0.12</td>\n",
       "      <td>27.82</td>\n",
       "      <td>NaN</td>\n",
       "    </tr>\n",
       "    <tr>\n",
       "      <th>50%</th>\n",
       "      <td>0.0</td>\n",
       "      <td>2.555606</td>\n",
       "      <td>-0.402872</td>\n",
       "      <td>-0.557146</td>\n",
       "      <td>33.25</td>\n",
       "      <td>-22.6</td>\n",
       "      <td>-0.12</td>\n",
       "      <td>27.82</td>\n",
       "      <td>NaN</td>\n",
       "    </tr>\n",
       "    <tr>\n",
       "      <th>75%</th>\n",
       "      <td>0.0</td>\n",
       "      <td>2.555606</td>\n",
       "      <td>-0.402872</td>\n",
       "      <td>-0.557146</td>\n",
       "      <td>33.25</td>\n",
       "      <td>-22.6</td>\n",
       "      <td>-0.12</td>\n",
       "      <td>27.82</td>\n",
       "      <td>NaN</td>\n",
       "    </tr>\n",
       "    <tr>\n",
       "      <th>max</th>\n",
       "      <td>0.0</td>\n",
       "      <td>2.555606</td>\n",
       "      <td>-0.402872</td>\n",
       "      <td>-0.557146</td>\n",
       "      <td>33.25</td>\n",
       "      <td>-22.6</td>\n",
       "      <td>-0.12</td>\n",
       "      <td>27.82</td>\n",
       "      <td>NaN</td>\n",
       "    </tr>\n",
       "  </tbody>\n",
       "</table>\n",
       "</div>"
      ],
      "text/plain": [
       "       Category  DER (St.)  Operating Profit Margin (St.)  Sales Growth (St.)  \\\n",
       "count       1.0   1.000000                       1.000000            1.000000   \n",
       "mean        0.0   2.555606                      -0.402872           -0.557146   \n",
       "std         NaN        NaN                            NaN                 NaN   \n",
       "min         0.0   2.555606                      -0.402872           -0.557146   \n",
       "25%         0.0   2.555606                      -0.402872           -0.557146   \n",
       "50%         0.0   2.555606                      -0.402872           -0.557146   \n",
       "75%         0.0   2.555606                      -0.402872           -0.557146   \n",
       "max         0.0   2.555606                      -0.402872           -0.557146   \n",
       "\n",
       "         DER  Operating Profit Margin  Return On Asset  Sales Growth  ;;;;  \n",
       "count   1.00                      1.0             1.00          1.00   0.0  \n",
       "mean   33.25                    -22.6            -0.12         27.82   NaN  \n",
       "std      NaN                      NaN              NaN           NaN   NaN  \n",
       "min    33.25                    -22.6            -0.12         27.82   NaN  \n",
       "25%    33.25                    -22.6            -0.12         27.82   NaN  \n",
       "50%    33.25                    -22.6            -0.12         27.82   NaN  \n",
       "75%    33.25                    -22.6            -0.12         27.82   NaN  \n",
       "max    33.25                    -22.6            -0.12         27.82   NaN  "
      ]
     },
     "execution_count": 34,
     "metadata": {},
     "output_type": "execute_result"
    }
   ],
   "source": [
    "#Highly Positively Impacted\n",
    "df[df['Category'] == 0].describe()"
   ]
  }
 ],
 "metadata": {
  "kernelspec": {
   "display_name": "Python 3",
   "language": "python",
   "name": "python3"
  },
  "language_info": {
   "codemirror_mode": {
    "name": "ipython",
    "version": 3
   },
   "file_extension": ".py",
   "mimetype": "text/x-python",
   "name": "python",
   "nbconvert_exporter": "python",
   "pygments_lexer": "ipython3",
   "version": "3.7.12"
  },
  "papermill": {
   "default_parameters": {},
   "duration": 25.970188,
   "end_time": "2022-04-19T12:08:59.049823",
   "environment_variables": {},
   "exception": null,
   "input_path": "__notebook__.ipynb",
   "output_path": "__notebook__.ipynb",
   "parameters": {},
   "start_time": "2022-04-19T12:08:33.079635",
   "version": "2.3.4"
  }
 },
 "nbformat": 4,
 "nbformat_minor": 5
}
